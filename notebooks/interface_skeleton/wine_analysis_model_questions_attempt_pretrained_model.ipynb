{
 "cells": [
  {
   "cell_type": "code",
   "execution_count": 1,
   "metadata": {},
   "outputs": [],
   "source": [
    "import pickle\n",
    "import spacy\n",
    "import pandas as pd\n",
    "import numpy as np\n",
    "from sklearn.naive_bayes import MultinomialNB, GaussianNB, BernoulliNB, CategoricalNB\n",
    "from sklearn.ensemble import RandomForestClassifier, RandomForestRegressor\n",
    "from sklearn.feature_extraction.text import CountVectorizer, TfidfTransformer\n",
    "from sklearn.model_selection import train_test_split, cross_val_score\n",
    "from sklearn.pipeline import Pipeline\n",
    "from sklearn.linear_model import LogisticRegression\n",
    "from sklearn import metrics"
   ]
  },
  {
   "cell_type": "code",
   "execution_count": 2,
   "metadata": {},
   "outputs": [],
   "source": [
    "nlp = spacy.load(\"en_core_web_sm\", disable=[\"parser\", \"textcat\", \"ner\"])"
   ]
  },
  {
   "cell_type": "code",
   "execution_count": 3,
   "metadata": {},
   "outputs": [],
   "source": [
    "df = pd.read_csv('../data/df_nonans.csv', index_col = 0)"
   ]
  },
  {
   "cell_type": "code",
   "execution_count": 4,
   "metadata": {},
   "outputs": [],
   "source": [
    "def custom_tokenizer(text):\n",
    "    '''\n",
    "    used to filter out unwanted words, punctuation, and so on\n",
    "    '''\n",
    "    tokens = []\n",
    "    for t in nlp(text):\n",
    "        if not(len(t) < 2 or t.is_stop or t.like_num or \n",
    "               t.is_punct or not t.is_alpha):\n",
    "            tokens.append(t.lemma_)\n",
    "    return tokens "
   ]
  },
  {
   "cell_type": "code",
   "execution_count": 57,
   "metadata": {},
   "outputs": [],
   "source": [
    "with open('../models/bern/bow.p', 'rb') as f:\n",
    "    bow = pickle.load(f)\n",
    "\n",
    "with open('../models/bern/m.p', 'rb') as f:\n",
    "    m = pickle.load(f)"
   ]
  },
  {
   "cell_type": "code",
   "execution_count": 90,
   "metadata": {},
   "outputs": [],
   "source": [
    "query = []"
   ]
  },
  {
   "cell_type": "code",
   "execution_count": 91,
   "metadata": {},
   "outputs": [
    {
     "name": "stdout",
     "output_type": "stream",
     "text": [
      "Do you prefer sweet or dry wine: dry\n"
     ]
    }
   ],
   "source": [
    "style = input('Do you prefer sweet or dry wine: ')"
   ]
  },
  {
   "cell_type": "code",
   "execution_count": 92,
   "metadata": {},
   "outputs": [],
   "source": [
    "if style == 'sweet':\n",
    "    query.append('sweet')\n",
    "    query.append('sweetness')\n",
    "    query.append('sugar')\n",
    "elif style == 'dry':\n",
    "    query.append('dry')\n",
    "    query.append('savory')\n",
    "    query.append('bitter')"
   ]
  },
  {
   "cell_type": "code",
   "execution_count": 93,
   "metadata": {},
   "outputs": [
    {
     "name": "stdout",
     "output_type": "stream",
     "text": [
      "Which best describes your preferred wine style:\n",
      "1. Light and refreshing\n",
      "2. Smooth and balanced\n",
      "3. Full and rich\n",
      "Enter 1, 2, or 3: 1\n"
     ]
    }
   ],
   "source": [
    "print('Which best describes your preferred wine style:')\n",
    "print('1. Light and refreshing')\n",
    "print('2. Smooth and balanced')\n",
    "print('3. Full and rich')\n",
    "style_2 = input('Enter 1, 2, or 3: ')"
   ]
  },
  {
   "cell_type": "code",
   "execution_count": 94,
   "metadata": {},
   "outputs": [],
   "source": [
    "if style_2 == '1':\n",
    "    query.append('light')\n",
    "    query.append('refreshing')\n",
    "    query.append('bright')\n",
    "    query.append('racy')\n",
    "elif style_2 == '2':\n",
    "    query.append('smooth')\n",
    "    query.append('balanced')\n",
    "    query.append('polished')\n",
    "elif style_2 == '3':\n",
    "    query.append('full')\n",
    "    query.append('rich')\n",
    "    query.append('dense')\n",
    "else:\n",
    "    style_2 = input('Enter 1, 2, or 3: ')\n",
    "    #continue"
   ]
  },
  {
   "cell_type": "code",
   "execution_count": 95,
   "metadata": {},
   "outputs": [
    {
     "name": "stdout",
     "output_type": "stream",
     "text": [
      "Which is more appealing fruity or earthy: earthy\n"
     ]
    }
   ],
   "source": [
    "appealing = input('Which is more appealing fruity or earthy: ')"
   ]
  },
  {
   "cell_type": "code",
   "execution_count": 96,
   "metadata": {},
   "outputs": [],
   "source": [
    "if appealing == 'fruity':\n",
    "    query.append('fruity')\n",
    "    query.append('fruitiness')\n",
    "    query.append('jam')\n",
    "    query.append('jammy')\n",
    "elif appealing == 'earthy':\n",
    "    query.append('earthy')\n",
    "    query.append('earth')\n",
    "    query.append('soil')\n",
    "    query.append('minerality')\n",
    "    query.append('graphite')\n",
    "    \n",
    "else:\n",
    "    appealing = input('Which is more appealing fruity or earthy: ')"
   ]
  },
  {
   "cell_type": "code",
   "execution_count": 97,
   "metadata": {},
   "outputs": [
    {
     "name": "stdout",
     "output_type": "stream",
     "text": [
      "Do you like flavors that remind you of caramel, toast and spice (yes or no)? yes\n"
     ]
    }
   ],
   "source": [
    "flavor = input('Do you like flavors that remind you of caramel, toast and spice (yes or no)? ')"
   ]
  },
  {
   "cell_type": "code",
   "execution_count": 98,
   "metadata": {},
   "outputs": [],
   "source": [
    "if flavor == 'yes':\n",
    "    query.append('carmel')\n",
    "    query.append('toast')\n",
    "    query.append('spice')\n",
    "    query.append('oak')\n",
    "    query.append('oaky')\n",
    "    query.append('smokey')\n",
    "    query.append('toasty')\n",
    "    query.append('smoke')\n",
    "    query.append('cedar')\n",
    "    query.append('tea')"
   ]
  },
  {
   "cell_type": "code",
   "execution_count": 99,
   "metadata": {},
   "outputs": [
    {
     "data": {
      "text/plain": [
       "['dry',\n",
       " 'savory',\n",
       " 'bitter',\n",
       " 'light',\n",
       " 'refreshing',\n",
       " 'bright',\n",
       " 'racy',\n",
       " 'earthy',\n",
       " 'earth',\n",
       " 'soil',\n",
       " 'minerality',\n",
       " 'graphite',\n",
       " 'carmel',\n",
       " 'toast',\n",
       " 'spice',\n",
       " 'oak',\n",
       " 'oaky',\n",
       " 'smokey',\n",
       " 'toasty',\n",
       " 'smoke',\n",
       " 'cedar',\n",
       " 'tea']"
      ]
     },
     "execution_count": 99,
     "metadata": {},
     "output_type": "execute_result"
    }
   ],
   "source": [
    "query"
   ]
  },
  {
   "cell_type": "code",
   "execution_count": 100,
   "metadata": {},
   "outputs": [],
   "source": [
    "query = [' '.join(query)]"
   ]
  },
  {
   "cell_type": "code",
   "execution_count": 101,
   "metadata": {},
   "outputs": [
    {
     "data": {
      "text/plain": [
       "['dry savory bitter light refreshing bright racy earthy earth soil minerality graphite carmel toast spice oak oaky smokey toasty smoke cedar tea']"
      ]
     },
     "execution_count": 101,
     "metadata": {},
     "output_type": "execute_result"
    }
   ],
   "source": [
    "query"
   ]
  },
  {
   "cell_type": "code",
   "execution_count": 102,
   "metadata": {},
   "outputs": [
    {
     "data": {
      "text/plain": [
       "array(['Pinot Noir'], dtype='<U29')"
      ]
     },
     "execution_count": 102,
     "metadata": {},
     "output_type": "execute_result"
    }
   ],
   "source": [
    "m.predict(bow.transform(query))"
   ]
  },
  {
   "cell_type": "code",
   "execution_count": 103,
   "metadata": {},
   "outputs": [
    {
     "data": {
      "text/plain": [
       "0.8496554683880507"
      ]
     },
     "execution_count": 103,
     "metadata": {},
     "output_type": "execute_result"
    }
   ],
   "source": [
    "m.predict_proba(bow.transform(query)).max()"
   ]
  },
  {
   "cell_type": "code",
   "execution_count": 35,
   "metadata": {},
   "outputs": [
    {
     "data": {
      "text/plain": [
       "array([[0.01034809, 0.00470898, 0.00546808, 0.00850742, 0.03661328,\n",
       "        0.00288867, 0.0527767 , 0.00791998, 0.00848632, 0.00407253,\n",
       "        0.0617867 , 0.00700638, 0.00873859, 0.00977464, 0.01394966,\n",
       "        0.00379503, 0.00402035, 0.00756899, 0.04817632, 0.15379753,\n",
       "        0.00396906, 0.00266176, 0.00829603, 0.05450378, 0.00431853,\n",
       "        0.2936543 , 0.01981345, 0.02120059, 0.00299243, 0.0362555 ,\n",
       "        0.00483388, 0.02129705, 0.00860254, 0.00550886, 0.0064714 ,\n",
       "        0.01670488, 0.02851172]])"
      ]
     },
     "execution_count": 35,
     "metadata": {},
     "output_type": "execute_result"
    }
   ],
   "source": [
    "m.predict_proba(bow.transform(query))"
   ]
  },
  {
   "cell_type": "code",
   "execution_count": 21,
   "metadata": {},
   "outputs": [
    {
     "data": {
      "text/plain": [
       "array(['Barbera', 'Bordeaux-style Red Blend',\n",
       "       'Bordeaux-style White Blend', 'Cabernet Franc',\n",
       "       'Cabernet Sauvignon', 'Carmenère', 'Chardonnay', 'Chenin Blanc',\n",
       "       'Corvina, Rondinella, Molinara', 'Gamay', 'Gewürztraminer',\n",
       "       'Grenache', 'Grüner Veltliner', 'Malbec', 'Merlot', 'Nebbiolo',\n",
       "       'Petite Sirah', 'Pinot Grigio', 'Pinot Gris', 'Pinot Noir', 'Port',\n",
       "       'Portuguese Red', 'Portuguese White', 'Red Blend',\n",
       "       'Rhône-style Red Blend', 'Riesling', 'Rosé', 'Sangiovese',\n",
       "       'Sangiovese Grosso', 'Sauvignon Blanc', 'Shiraz', 'Syrah',\n",
       "       'Tempranillo', 'Tempranillo Blend', 'Viognier', 'White Blend',\n",
       "       'Zinfandel'], dtype='<U29')"
      ]
     },
     "execution_count": 21,
     "metadata": {},
     "output_type": "execute_result"
    }
   ],
   "source": [
    "m.classes_ "
   ]
  },
  {
   "cell_type": "code",
   "execution_count": 104,
   "metadata": {},
   "outputs": [],
   "source": [
    "df_pred = pd.DataFrame(m.predict_proba(bow.transform(query)).T, index=m.classes_ ,columns=['probability'])"
   ]
  },
  {
   "cell_type": "code",
   "execution_count": 105,
   "metadata": {},
   "outputs": [
    {
     "data": {
      "text/html": [
       "<div>\n",
       "<style scoped>\n",
       "    .dataframe tbody tr th:only-of-type {\n",
       "        vertical-align: middle;\n",
       "    }\n",
       "\n",
       "    .dataframe tbody tr th {\n",
       "        vertical-align: top;\n",
       "    }\n",
       "\n",
       "    .dataframe thead th {\n",
       "        text-align: right;\n",
       "    }\n",
       "</style>\n",
       "<table border=\"1\" class=\"dataframe\">\n",
       "  <thead>\n",
       "    <tr style=\"text-align: right;\">\n",
       "      <th></th>\n",
       "      <th>probability</th>\n",
       "    </tr>\n",
       "  </thead>\n",
       "  <tbody>\n",
       "    <tr>\n",
       "      <th>Pinot Noir</th>\n",
       "      <td>8.496555e-01</td>\n",
       "    </tr>\n",
       "    <tr>\n",
       "      <th>Barbera</th>\n",
       "      <td>5.726378e-02</td>\n",
       "    </tr>\n",
       "    <tr>\n",
       "      <th>Red Blend</th>\n",
       "      <td>3.012012e-02</td>\n",
       "    </tr>\n",
       "    <tr>\n",
       "      <th>Syrah</th>\n",
       "      <td>2.123221e-02</td>\n",
       "    </tr>\n",
       "    <tr>\n",
       "      <th>Cabernet Franc</th>\n",
       "      <td>1.568268e-02</td>\n",
       "    </tr>\n",
       "    <tr>\n",
       "      <th>Cabernet Sauvignon</th>\n",
       "      <td>1.036370e-02</td>\n",
       "    </tr>\n",
       "    <tr>\n",
       "      <th>Tempranillo</th>\n",
       "      <td>4.463769e-03</td>\n",
       "    </tr>\n",
       "    <tr>\n",
       "      <th>Merlot</th>\n",
       "      <td>3.777201e-03</td>\n",
       "    </tr>\n",
       "    <tr>\n",
       "      <th>Tempranillo Blend</th>\n",
       "      <td>3.011224e-03</td>\n",
       "    </tr>\n",
       "    <tr>\n",
       "      <th>Grenache</th>\n",
       "      <td>1.249015e-03</td>\n",
       "    </tr>\n",
       "    <tr>\n",
       "      <th>Chardonnay</th>\n",
       "      <td>1.139189e-03</td>\n",
       "    </tr>\n",
       "    <tr>\n",
       "      <th>Zinfandel</th>\n",
       "      <td>6.133144e-04</td>\n",
       "    </tr>\n",
       "    <tr>\n",
       "      <th>Corvina, Rondinella, Molinara</th>\n",
       "      <td>5.524314e-04</td>\n",
       "    </tr>\n",
       "    <tr>\n",
       "      <th>Malbec</th>\n",
       "      <td>3.572746e-04</td>\n",
       "    </tr>\n",
       "    <tr>\n",
       "      <th>Shiraz</th>\n",
       "      <td>2.513227e-04</td>\n",
       "    </tr>\n",
       "    <tr>\n",
       "      <th>Sangiovese</th>\n",
       "      <td>1.470135e-04</td>\n",
       "    </tr>\n",
       "    <tr>\n",
       "      <th>Pinot Gris</th>\n",
       "      <td>5.466052e-05</td>\n",
       "    </tr>\n",
       "    <tr>\n",
       "      <th>Petite Sirah</th>\n",
       "      <td>2.102526e-05</td>\n",
       "    </tr>\n",
       "    <tr>\n",
       "      <th>Carmenère</th>\n",
       "      <td>1.464034e-05</td>\n",
       "    </tr>\n",
       "    <tr>\n",
       "      <th>Gewürztraminer</th>\n",
       "      <td>8.277245e-06</td>\n",
       "    </tr>\n",
       "    <tr>\n",
       "      <th>Sangiovese Grosso</th>\n",
       "      <td>7.222520e-06</td>\n",
       "    </tr>\n",
       "    <tr>\n",
       "      <th>Viognier</th>\n",
       "      <td>4.502042e-06</td>\n",
       "    </tr>\n",
       "    <tr>\n",
       "      <th>Rhône-style Red Blend</th>\n",
       "      <td>3.072631e-06</td>\n",
       "    </tr>\n",
       "    <tr>\n",
       "      <th>White Blend</th>\n",
       "      <td>2.736256e-06</td>\n",
       "    </tr>\n",
       "    <tr>\n",
       "      <th>Riesling</th>\n",
       "      <td>1.569985e-06</td>\n",
       "    </tr>\n",
       "    <tr>\n",
       "      <th>Bordeaux-style Red Blend</th>\n",
       "      <td>1.203778e-06</td>\n",
       "    </tr>\n",
       "    <tr>\n",
       "      <th>Sauvignon Blanc</th>\n",
       "      <td>6.338753e-07</td>\n",
       "    </tr>\n",
       "    <tr>\n",
       "      <th>Chenin Blanc</th>\n",
       "      <td>5.968775e-07</td>\n",
       "    </tr>\n",
       "    <tr>\n",
       "      <th>Nebbiolo</th>\n",
       "      <td>9.875483e-08</td>\n",
       "    </tr>\n",
       "    <tr>\n",
       "      <th>Grüner Veltliner</th>\n",
       "      <td>4.050041e-08</td>\n",
       "    </tr>\n",
       "    <tr>\n",
       "      <th>Pinot Grigio</th>\n",
       "      <td>7.098720e-09</td>\n",
       "    </tr>\n",
       "    <tr>\n",
       "      <th>Rosé</th>\n",
       "      <td>3.223422e-09</td>\n",
       "    </tr>\n",
       "    <tr>\n",
       "      <th>Bordeaux-style White Blend</th>\n",
       "      <td>2.604180e-10</td>\n",
       "    </tr>\n",
       "    <tr>\n",
       "      <th>Portuguese White</th>\n",
       "      <td>3.587923e-11</td>\n",
       "    </tr>\n",
       "    <tr>\n",
       "      <th>Gamay</th>\n",
       "      <td>2.612105e-12</td>\n",
       "    </tr>\n",
       "    <tr>\n",
       "      <th>Port</th>\n",
       "      <td>5.659793e-13</td>\n",
       "    </tr>\n",
       "    <tr>\n",
       "      <th>Portuguese Red</th>\n",
       "      <td>5.278597e-14</td>\n",
       "    </tr>\n",
       "  </tbody>\n",
       "</table>\n",
       "</div>"
      ],
      "text/plain": [
       "                                probability\n",
       "Pinot Noir                     8.496555e-01\n",
       "Barbera                        5.726378e-02\n",
       "Red Blend                      3.012012e-02\n",
       "Syrah                          2.123221e-02\n",
       "Cabernet Franc                 1.568268e-02\n",
       "Cabernet Sauvignon             1.036370e-02\n",
       "Tempranillo                    4.463769e-03\n",
       "Merlot                         3.777201e-03\n",
       "Tempranillo Blend              3.011224e-03\n",
       "Grenache                       1.249015e-03\n",
       "Chardonnay                     1.139189e-03\n",
       "Zinfandel                      6.133144e-04\n",
       "Corvina, Rondinella, Molinara  5.524314e-04\n",
       "Malbec                         3.572746e-04\n",
       "Shiraz                         2.513227e-04\n",
       "Sangiovese                     1.470135e-04\n",
       "Pinot Gris                     5.466052e-05\n",
       "Petite Sirah                   2.102526e-05\n",
       "Carmenère                      1.464034e-05\n",
       "Gewürztraminer                 8.277245e-06\n",
       "Sangiovese Grosso              7.222520e-06\n",
       "Viognier                       4.502042e-06\n",
       "Rhône-style Red Blend          3.072631e-06\n",
       "White Blend                    2.736256e-06\n",
       "Riesling                       1.569985e-06\n",
       "Bordeaux-style Red Blend       1.203778e-06\n",
       "Sauvignon Blanc                6.338753e-07\n",
       "Chenin Blanc                   5.968775e-07\n",
       "Nebbiolo                       9.875483e-08\n",
       "Grüner Veltliner               4.050041e-08\n",
       "Pinot Grigio                   7.098720e-09\n",
       "Rosé                           3.223422e-09\n",
       "Bordeaux-style White Blend     2.604180e-10\n",
       "Portuguese White               3.587923e-11\n",
       "Gamay                          2.612105e-12\n",
       "Port                           5.659793e-13\n",
       "Portuguese Red                 5.278597e-14"
      ]
     },
     "execution_count": 105,
     "metadata": {},
     "output_type": "execute_result"
    }
   ],
   "source": [
    "df_pred.sort_values(by='probability', ascending=False)"
   ]
  },
  {
   "cell_type": "code",
   "execution_count": null,
   "metadata": {},
   "outputs": [],
   "source": []
  }
 ],
 "metadata": {
  "kernelspec": {
   "display_name": "Python 3",
   "language": "python",
   "name": "python3"
  },
  "language_info": {
   "codemirror_mode": {
    "name": "ipython",
    "version": 3
   },
   "file_extension": ".py",
   "mimetype": "text/x-python",
   "name": "python",
   "nbconvert_exporter": "python",
   "pygments_lexer": "ipython3",
   "version": "3.7.4"
  }
 },
 "nbformat": 4,
 "nbformat_minor": 4
}
