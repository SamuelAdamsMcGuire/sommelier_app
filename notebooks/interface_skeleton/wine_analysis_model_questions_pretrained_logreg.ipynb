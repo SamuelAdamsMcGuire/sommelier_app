{
 "cells": [
  {
   "cell_type": "code",
   "execution_count": 1,
   "metadata": {},
   "outputs": [],
   "source": [
    "import pickle\n",
    "import spacy\n",
    "import pandas as pd\n",
    "import numpy as np\n",
    "from sklearn.naive_bayes import MultinomialNB, GaussianNB, BernoulliNB, CategoricalNB\n",
    "from sklearn.ensemble import RandomForestClassifier, RandomForestRegressor\n",
    "from sklearn.feature_extraction.text import CountVectorizer, TfidfTransformer\n",
    "from sklearn.model_selection import train_test_split, cross_val_score\n",
    "from sklearn.pipeline import Pipeline\n",
    "from sklearn.linear_model import LogisticRegression\n",
    "from sklearn import metrics"
   ]
  },
  {
   "cell_type": "code",
   "execution_count": 2,
   "metadata": {},
   "outputs": [],
   "source": [
    "nlp = spacy.load(\"en_core_web_sm\", disable=[\"parser\", \"textcat\", \"ner\"])"
   ]
  },
  {
   "cell_type": "code",
   "execution_count": 3,
   "metadata": {},
   "outputs": [],
   "source": [
    "df_red = pd.read_csv('../data/df_red.csv', index_col = 0)\n",
    "df_w_r = pd.read_csv('../data/df_w_r.csv', index_col = 0)\n",
    "df_white = pd.read_csv('../data/df_white.csv', index_col = 0)\n",
    "df_all = pd.read_csv('../data/df_nonans.csv', index_col = 0)"
   ]
  },
  {
   "cell_type": "code",
   "execution_count": 4,
   "metadata": {},
   "outputs": [],
   "source": [
    "def custom_tokenizer(text):\n",
    "    '''\n",
    "    used to filter out unwanted words, punctuation, and so on\n",
    "    '''\n",
    "    tokens = []\n",
    "    for t in nlp(text):\n",
    "        if not(len(t) < 2 or t.is_stop or t.like_num or \n",
    "               t.is_punct or not t.is_alpha):\n",
    "            tokens.append(t.lemma_)\n",
    "    return tokens "
   ]
  },
  {
   "cell_type": "code",
   "execution_count": 5,
   "metadata": {},
   "outputs": [],
   "source": [
    "with open('../models/logreg/bow.p', 'rb') as f:\n",
    "    bow_all = pickle.load(f)\n",
    "with open('../models/logreg/bow_red.p', 'rb') as f:\n",
    "    bow_red = pickle.load(f)\n",
    "with open('../models/logreg/bow_w_r.p', 'rb') as f:\n",
    "    bow_w_r = pickle.load(f)\n",
    "with open('../models/logreg/bow_white.p', 'rb') as f:\n",
    "    bow_white = pickle.load(f)"
   ]
  },
  {
   "cell_type": "code",
   "execution_count": 6,
   "metadata": {},
   "outputs": [],
   "source": [
    "with open('../models/logreg/m.p', 'rb') as f:\n",
    "    m_all = pickle.load(f)\n",
    "with open('../models/logreg/m_red.p', 'rb') as f:\n",
    "    m_red = pickle.load(f)\n",
    "with open('../models/logreg/m_w_r.p', 'rb') as f:\n",
    "    m_w_r = pickle.load(f)\n",
    "with open('../models/logreg/m_white.p', 'rb') as f:\n",
    "    m_white = pickle.load(f)"
   ]
  },
  {
   "cell_type": "code",
   "execution_count": 26,
   "metadata": {},
   "outputs": [],
   "source": [
    "query = []\n",
    "model = []\n",
    "#remake models with class_weights='balanced'"
   ]
  },
  {
   "cell_type": "code",
   "execution_count": 27,
   "metadata": {},
   "outputs": [
    {
     "name": "stdout",
     "output_type": "stream",
     "text": [
      "Would you like red, white or either: red\n"
     ]
    }
   ],
   "source": [
    "wine_type = input('Would you like red, white or either: ')"
   ]
  },
  {
   "cell_type": "code",
   "execution_count": 28,
   "metadata": {},
   "outputs": [],
   "source": [
    "if wine_type == 'red':\n",
    "    model.append('red')\n",
    "elif wine_type == 'white':\n",
    "    rose = input('Should we include Rosé wine too? ')\n",
    "    if rose == 'yes': \n",
    "        model.append('white_rose')\n",
    "    elif rose == 'no':\n",
    "        model.append('white')\n",
    "elif wine_type == 'either':\n",
    "    model.append('all')\n",
    "else:\n",
    "    wine_type = input('Would you like red, white or either:')"
   ]
  },
  {
   "cell_type": "code",
   "execution_count": 29,
   "metadata": {},
   "outputs": [
    {
     "name": "stdout",
     "output_type": "stream",
     "text": [
      "Do you prefer sweet or dry wine: sweet\n"
     ]
    }
   ],
   "source": [
    "style = input('Do you prefer sweet or dry wine: ')"
   ]
  },
  {
   "cell_type": "code",
   "execution_count": 30,
   "metadata": {},
   "outputs": [],
   "source": [
    "if style == 'sweet':\n",
    "    query.append('sweet')\n",
    "    query.append('sweetness')\n",
    "    query.append('sugar')\n",
    "elif style == 'dry':\n",
    "    query.append('dry')\n",
    "    query.append('savory')\n",
    "    query.append('bitter')"
   ]
  },
  {
   "cell_type": "code",
   "execution_count": 31,
   "metadata": {},
   "outputs": [
    {
     "name": "stdout",
     "output_type": "stream",
     "text": [
      "Which best describes your preferred wine style:\n",
      "1. Light and refreshing\n",
      "2. Smooth and balanced\n",
      "3. Full and rich\n",
      "Enter 1, 2, or 3: 3\n"
     ]
    }
   ],
   "source": [
    "print('Which best describes your preferred wine style:')\n",
    "print('1. Light and refreshing')\n",
    "print('2. Smooth and balanced')\n",
    "print('3. Full and rich')\n",
    "style_2 = input('Enter 1, 2, or 3: ')"
   ]
  },
  {
   "cell_type": "code",
   "execution_count": 32,
   "metadata": {},
   "outputs": [],
   "source": [
    "if style_2 == '1':\n",
    "    query.append('light')\n",
    "    query.append('refreshing')\n",
    "    query.append('bright')\n",
    "    query.append('racy')\n",
    "elif style_2 == '2':\n",
    "    query.append('smooth')\n",
    "    query.append('balanced')\n",
    "    query.append('polished')\n",
    "    query.append('silky')\n",
    "elif style_2 == '3':\n",
    "    query.append('full')\n",
    "    query.append('rich')\n",
    "    query.append('dense')\n",
    "    query.append('tannin')\n",
    "    query.append('tannic')\n",
    "    query.append('chewy')\n",
    "    query.append('heavy')\n",
    "else:\n",
    "    style_2 = input('Enter 1, 2, or 3: ')\n",
    "    #continue"
   ]
  },
  {
   "cell_type": "code",
   "execution_count": 33,
   "metadata": {},
   "outputs": [
    {
     "name": "stdout",
     "output_type": "stream",
     "text": [
      "Which is more appealing fruity or earthy: fruity\n"
     ]
    }
   ],
   "source": [
    "appealing = input('Which is more appealing fruity or earthy: ')"
   ]
  },
  {
   "cell_type": "code",
   "execution_count": 34,
   "metadata": {},
   "outputs": [],
   "source": [
    "if appealing == 'fruity':\n",
    "    query.append('fruity')\n",
    "    query.append('fruitiness')\n",
    "    query.append('jam')\n",
    "    query.append('jammy')\n",
    "elif appealing == 'earthy':\n",
    "    query.append('earthy')\n",
    "    query.append('earth')\n",
    "    query.append('soil')\n",
    "    query.append('minerality')\n",
    "    query.append('graphite')    \n",
    "else:\n",
    "    appealing = input('Which is more appealing fruity or earthy: ')"
   ]
  },
  {
   "cell_type": "code",
   "execution_count": 46,
   "metadata": {},
   "outputs": [],
   "source": [
    "print('Which do you prefer: ')\n",
    "print('1. Wines that finish soft and light.')\n",
    "print('2. Wines that linger on your palate after they have finished.')\n",
    "finish = input('Enter 1 or 2: ')\n",
    "\n",
    "#this question asked with a 1 seems to help pinot nior. that good or bad?"
   ]
  },
  {
   "cell_type": "code",
   "execution_count": null,
   "metadata": {},
   "outputs": [],
   "source": [
    "if appealing == '1':\n",
    "    query.append('soft')\n",
    "    query.append('light')\n",
    "    query.append('fine')\n",
    "    query.append('round')\n",
    "elif appealing == '2':\n",
    "    query.append('long')\n",
    "    query.append('concentrated')\n",
    "    query.append('structure')\n",
    "    query.append('linger')\n",
    "    query.append('firm')  "
   ]
  },
  {
   "cell_type": "code",
   "execution_count": 36,
   "metadata": {},
   "outputs": [
    {
     "name": "stdout",
     "output_type": "stream",
     "text": [
      "Do you like flavors that remind you of caramel, toast and spice (yes or no)? yes\n"
     ]
    }
   ],
   "source": [
    "flavor = input('Do you like flavors that remind you of caramel, toast and spice (yes or no)? ')\n",
    "#finds out if the user likes wine aged in an oak barrel or stainless steel"
   ]
  },
  {
   "cell_type": "code",
   "execution_count": 37,
   "metadata": {},
   "outputs": [],
   "source": [
    "if flavor == 'yes':\n",
    "    query.append('carmel')\n",
    "    query.append('toast')\n",
    "    query.append('spice')\n",
    "    query.append('oak')\n",
    "    query.append('oaky')\n",
    "    query.append('smokey')\n",
    "    query.append('toasty')\n",
    "    query.append('smoke')\n",
    "    query.append('cedar')\n",
    "    query.append('tea')"
   ]
  },
  {
   "cell_type": "code",
   "execution_count": 38,
   "metadata": {},
   "outputs": [
    {
     "data": {
      "text/plain": [
       "['sweet',\n",
       " 'sweetness',\n",
       " 'sugar',\n",
       " 'full',\n",
       " 'rich',\n",
       " 'dense',\n",
       " 'tannin',\n",
       " 'tannic',\n",
       " 'chewy',\n",
       " 'heavy',\n",
       " 'fruity',\n",
       " 'fruitiness',\n",
       " 'jam',\n",
       " 'jammy',\n",
       " 'carmel',\n",
       " 'toast',\n",
       " 'spice',\n",
       " 'oak',\n",
       " 'oaky',\n",
       " 'smokey',\n",
       " 'toasty',\n",
       " 'smoke',\n",
       " 'cedar',\n",
       " 'tea']"
      ]
     },
     "execution_count": 38,
     "metadata": {},
     "output_type": "execute_result"
    }
   ],
   "source": [
    "query"
   ]
  },
  {
   "cell_type": "code",
   "execution_count": 39,
   "metadata": {},
   "outputs": [],
   "source": [
    "query = [' '.join(query)]"
   ]
  },
  {
   "cell_type": "code",
   "execution_count": 40,
   "metadata": {},
   "outputs": [
    {
     "data": {
      "text/plain": [
       "['sweet sweetness sugar full rich dense tannin tannic chewy heavy fruity fruitiness jam jammy carmel toast spice oak oaky smokey toasty smoke cedar tea']"
      ]
     },
     "execution_count": 40,
     "metadata": {},
     "output_type": "execute_result"
    }
   ],
   "source": [
    "query"
   ]
  },
  {
   "cell_type": "code",
   "execution_count": 41,
   "metadata": {},
   "outputs": [],
   "source": [
    "if model[0] == 'all':\n",
    "    m = m_all\n",
    "    bow = bow_all\n",
    "elif model[0] == 'red':\n",
    "    m = m_red\n",
    "    bow = bow_red\n",
    "elif model[0] == 'white':\n",
    "    m = m_white\n",
    "    bow = bow_white\n",
    "elif model[0] == 'white_rose':\n",
    "    m = m_w_r\n",
    "    bow = bow_w_r"
   ]
  },
  {
   "cell_type": "code",
   "execution_count": 42,
   "metadata": {},
   "outputs": [
    {
     "data": {
      "text/plain": [
       "array(['Pinot Noir'], dtype=object)"
      ]
     },
     "execution_count": 42,
     "metadata": {},
     "output_type": "execute_result"
    }
   ],
   "source": [
    "m.predict(bow.transform(query))"
   ]
  },
  {
   "cell_type": "code",
   "execution_count": 43,
   "metadata": {},
   "outputs": [
    {
     "data": {
      "text/plain": [
       "0.20566230860084825"
      ]
     },
     "execution_count": 43,
     "metadata": {},
     "output_type": "execute_result"
    }
   ],
   "source": [
    "m.predict_proba(bow.transform(query)).max()"
   ]
  },
  {
   "cell_type": "code",
   "execution_count": 270,
   "metadata": {},
   "outputs": [
    {
     "data": {
      "text/plain": [
       "array([[1.27281263e-04, 9.69788223e-01, 4.86765005e-03, 2.94074304e-03,\n",
       "        6.00228584e-07, 1.66726902e-05, 6.49000158e-03, 9.87192201e-06,\n",
       "        2.11563546e-04, 1.49513001e-05, 1.20285465e-04, 1.07941131e-02,\n",
       "        4.61804316e-03]])"
      ]
     },
     "execution_count": 270,
     "metadata": {},
     "output_type": "execute_result"
    }
   ],
   "source": [
    "m.predict_proba(bow.transform(query))"
   ]
  },
  {
   "cell_type": "code",
   "execution_count": 271,
   "metadata": {},
   "outputs": [
    {
     "data": {
      "text/plain": [
       "array(['Bordeaux-style White Blend', 'Chardonnay', 'Chenin Blanc',\n",
       "       'Gewürztraminer', 'Grüner Veltliner', 'Pinot Grigio', 'Pinot Gris',\n",
       "       'Portuguese White', 'Riesling', 'Rosé', 'Sauvignon Blanc',\n",
       "       'Viognier', 'White Blend'], dtype='<U26')"
      ]
     },
     "execution_count": 271,
     "metadata": {},
     "output_type": "execute_result"
    }
   ],
   "source": [
    "m.classes_ "
   ]
  },
  {
   "cell_type": "code",
   "execution_count": 44,
   "metadata": {},
   "outputs": [],
   "source": [
    "df_pred = pd.DataFrame(m.predict_proba(bow.transform(query)).T, index=m.classes_ ,columns=['probability'])"
   ]
  },
  {
   "cell_type": "code",
   "execution_count": 45,
   "metadata": {},
   "outputs": [
    {
     "data": {
      "text/html": [
       "<div>\n",
       "<style scoped>\n",
       "    .dataframe tbody tr th:only-of-type {\n",
       "        vertical-align: middle;\n",
       "    }\n",
       "\n",
       "    .dataframe tbody tr th {\n",
       "        vertical-align: top;\n",
       "    }\n",
       "\n",
       "    .dataframe thead th {\n",
       "        text-align: right;\n",
       "    }\n",
       "</style>\n",
       "<table border=\"1\" class=\"dataframe\">\n",
       "  <thead>\n",
       "    <tr style=\"text-align: right;\">\n",
       "      <th></th>\n",
       "      <th>probability</th>\n",
       "    </tr>\n",
       "  </thead>\n",
       "  <tbody>\n",
       "    <tr>\n",
       "      <th>Pinot Noir</th>\n",
       "      <td>0.205662</td>\n",
       "    </tr>\n",
       "    <tr>\n",
       "      <th>Cabernet Sauvignon</th>\n",
       "      <td>0.169051</td>\n",
       "    </tr>\n",
       "    <tr>\n",
       "      <th>Red Blend</th>\n",
       "      <td>0.131865</td>\n",
       "    </tr>\n",
       "    <tr>\n",
       "      <th>Merlot</th>\n",
       "      <td>0.071164</td>\n",
       "    </tr>\n",
       "    <tr>\n",
       "      <th>Zinfandel</th>\n",
       "      <td>0.069245</td>\n",
       "    </tr>\n",
       "    <tr>\n",
       "      <th>Malbec</th>\n",
       "      <td>0.044211</td>\n",
       "    </tr>\n",
       "    <tr>\n",
       "      <th>Corvina, Rondinella, Molinara</th>\n",
       "      <td>0.043317</td>\n",
       "    </tr>\n",
       "    <tr>\n",
       "      <th>Port</th>\n",
       "      <td>0.040714</td>\n",
       "    </tr>\n",
       "    <tr>\n",
       "      <th>Bordeaux-style Red Blend</th>\n",
       "      <td>0.037390</td>\n",
       "    </tr>\n",
       "    <tr>\n",
       "      <th>Petite Sirah</th>\n",
       "      <td>0.025069</td>\n",
       "    </tr>\n",
       "    <tr>\n",
       "      <th>Syrah</th>\n",
       "      <td>0.024296</td>\n",
       "    </tr>\n",
       "    <tr>\n",
       "      <th>Tempranillo</th>\n",
       "      <td>0.021934</td>\n",
       "    </tr>\n",
       "    <tr>\n",
       "      <th>Cabernet Franc</th>\n",
       "      <td>0.021771</td>\n",
       "    </tr>\n",
       "    <tr>\n",
       "      <th>Barbera</th>\n",
       "      <td>0.019145</td>\n",
       "    </tr>\n",
       "    <tr>\n",
       "      <th>Sangiovese</th>\n",
       "      <td>0.015969</td>\n",
       "    </tr>\n",
       "    <tr>\n",
       "      <th>Shiraz</th>\n",
       "      <td>0.013212</td>\n",
       "    </tr>\n",
       "    <tr>\n",
       "      <th>Carmenère</th>\n",
       "      <td>0.007410</td>\n",
       "    </tr>\n",
       "    <tr>\n",
       "      <th>Portuguese Red</th>\n",
       "      <td>0.007318</td>\n",
       "    </tr>\n",
       "    <tr>\n",
       "      <th>Nebbiolo</th>\n",
       "      <td>0.007029</td>\n",
       "    </tr>\n",
       "    <tr>\n",
       "      <th>Tempranillo Blend</th>\n",
       "      <td>0.006405</td>\n",
       "    </tr>\n",
       "    <tr>\n",
       "      <th>Grenache</th>\n",
       "      <td>0.005824</td>\n",
       "    </tr>\n",
       "    <tr>\n",
       "      <th>Gamay</th>\n",
       "      <td>0.005444</td>\n",
       "    </tr>\n",
       "    <tr>\n",
       "      <th>Sangiovese Grosso</th>\n",
       "      <td>0.004962</td>\n",
       "    </tr>\n",
       "    <tr>\n",
       "      <th>Rhône-style Red Blend</th>\n",
       "      <td>0.001591</td>\n",
       "    </tr>\n",
       "  </tbody>\n",
       "</table>\n",
       "</div>"
      ],
      "text/plain": [
       "                               probability\n",
       "Pinot Noir                        0.205662\n",
       "Cabernet Sauvignon                0.169051\n",
       "Red Blend                         0.131865\n",
       "Merlot                            0.071164\n",
       "Zinfandel                         0.069245\n",
       "Malbec                            0.044211\n",
       "Corvina, Rondinella, Molinara     0.043317\n",
       "Port                              0.040714\n",
       "Bordeaux-style Red Blend          0.037390\n",
       "Petite Sirah                      0.025069\n",
       "Syrah                             0.024296\n",
       "Tempranillo                       0.021934\n",
       "Cabernet Franc                    0.021771\n",
       "Barbera                           0.019145\n",
       "Sangiovese                        0.015969\n",
       "Shiraz                            0.013212\n",
       "Carmenère                         0.007410\n",
       "Portuguese Red                    0.007318\n",
       "Nebbiolo                          0.007029\n",
       "Tempranillo Blend                 0.006405\n",
       "Grenache                          0.005824\n",
       "Gamay                             0.005444\n",
       "Sangiovese Grosso                 0.004962\n",
       "Rhône-style Red Blend             0.001591"
      ]
     },
     "execution_count": 45,
     "metadata": {},
     "output_type": "execute_result"
    }
   ],
   "source": [
    "df_pred.sort_values(by='probability', ascending=False)"
   ]
  },
  {
   "cell_type": "code",
   "execution_count": null,
   "metadata": {},
   "outputs": [],
   "source": []
  }
 ],
 "metadata": {
  "kernelspec": {
   "display_name": "Python 3",
   "language": "python",
   "name": "python3"
  },
  "language_info": {
   "codemirror_mode": {
    "name": "ipython",
    "version": 3
   },
   "file_extension": ".py",
   "mimetype": "text/x-python",
   "name": "python",
   "nbconvert_exporter": "python",
   "pygments_lexer": "ipython3",
   "version": "3.7.4"
  }
 },
 "nbformat": 4,
 "nbformat_minor": 4
}
