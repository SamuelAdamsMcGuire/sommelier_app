{
 "cells": [
  {
   "cell_type": "code",
   "execution_count": 315,
   "metadata": {},
   "outputs": [],
   "source": [
    "import pickle\n",
    "import spacy\n",
    "import pandas as pd\n",
    "import numpy as np\n",
    "from sklearn.naive_bayes import MultinomialNB, GaussianNB, BernoulliNB, CategoricalNB\n",
    "from sklearn.ensemble import RandomForestClassifier, RandomForestRegressor\n",
    "from sklearn.feature_extraction.text import CountVectorizer, TfidfTransformer\n",
    "from sklearn.model_selection import train_test_split, cross_val_score\n",
    "from sklearn.pipeline import Pipeline\n",
    "from sklearn.linear_model import LogisticRegression\n",
    "from sklearn import metrics"
   ]
  },
  {
   "cell_type": "code",
   "execution_count": null,
   "metadata": {},
   "outputs": [],
   "source": []
  },
  {
   "cell_type": "code",
   "execution_count": 316,
   "metadata": {},
   "outputs": [],
   "source": [
    "nlp = spacy.load(\"en_core_web_sm\", disable=[\"parser\", \"textcat\", \"ner\"])"
   ]
  },
  {
   "cell_type": "code",
   "execution_count": 317,
   "metadata": {},
   "outputs": [],
   "source": [
    "df_red = pd.read_csv('../data/df_red.csv', index_col = 0)\n",
    "df_w_r = pd.read_csv('../data/df_w_r.csv', index_col = 0)\n",
    "df_white = pd.read_csv('../data/df_white.csv', index_col = 0)\n",
    "df_all = pd.read_csv('../data/df_nonans.csv', index_col = 0)"
   ]
  },
  {
   "cell_type": "code",
   "execution_count": 318,
   "metadata": {},
   "outputs": [],
   "source": [
    "def custom_tokenizer(text):\n",
    "    '''\n",
    "    used to filter out unwanted words, punctuation, and so on\n",
    "    '''\n",
    "    tokens = []\n",
    "    for t in nlp(text):\n",
    "        if not(len(t) < 2 or t.is_stop or t.like_num or \n",
    "               t.is_punct or not t.is_alpha):\n",
    "            tokens.append(t.lemma_)\n",
    "    return tokens "
   ]
  },
  {
   "cell_type": "code",
   "execution_count": 319,
   "metadata": {},
   "outputs": [],
   "source": [
    "with open('../models/bern/bow.p', 'rb') as f:\n",
    "    bow_all = pickle.load(f)\n",
    "with open('../models/bern/bow_red.p', 'rb') as f:\n",
    "    bow_red = pickle.load(f)\n",
    "with open('../models/bern/bow_w_r.p', 'rb') as f:\n",
    "    bow_w_r = pickle.load(f)\n",
    "with open('../models/bern/bow_white.p', 'rb') as f:\n",
    "    bow_white = pickle.load(f)"
   ]
  },
  {
   "cell_type": "code",
   "execution_count": 320,
   "metadata": {},
   "outputs": [],
   "source": [
    "with open('../models/bern/m.p', 'rb') as f:\n",
    "    m_all = pickle.load(f)\n",
    "with open('../models/bern/m_red.p', 'rb') as f:\n",
    "    m_red = pickle.load(f)\n",
    "with open('../models/bern/m_w_r.p', 'rb') as f:\n",
    "    m_w_r = pickle.load(f)\n",
    "with open('../models/bern/m_white.p', 'rb') as f:\n",
    "    m_white = pickle.load(f)"
   ]
  },
  {
   "cell_type": "code",
   "execution_count": 321,
   "metadata": {},
   "outputs": [],
   "source": [
    "query = []\n",
    "model = []"
   ]
  },
  {
   "cell_type": "code",
   "execution_count": 322,
   "metadata": {},
   "outputs": [
    {
     "name": "stdout",
     "output_type": "stream",
     "text": [
      "Would you like red, white or either: red\n"
     ]
    }
   ],
   "source": [
    "wine_type = input('Would you like red, white or either: ')"
   ]
  },
  {
   "cell_type": "code",
   "execution_count": 324,
   "metadata": {},
   "outputs": [],
   "source": [
    "if wine_type == 'red':\n",
    "    model.append('red')\n",
    "elif wine_type == 'white':\n",
    "    rose = input('Should we include Rosé wine too? ')\n",
    "    if rose == 'yes': \n",
    "        model.append('white_rose')\n",
    "    elif rose == 'no':\n",
    "        model.append('white')\n",
    "elif wine_type == 'either':\n",
    "    model.append('all')\n",
    "else:\n",
    "    wine_type = input('Would you like red, white or either:')"
   ]
  },
  {
   "cell_type": "code",
   "execution_count": 325,
   "metadata": {},
   "outputs": [
    {
     "name": "stdout",
     "output_type": "stream",
     "text": [
      "Do you prefer sweet or dry wine: dry\n"
     ]
    }
   ],
   "source": [
    "style = input('Do you prefer sweet or dry wine: ')"
   ]
  },
  {
   "cell_type": "code",
   "execution_count": 326,
   "metadata": {},
   "outputs": [],
   "source": [
    "if style == 'sweet':\n",
    "    query.append('sweet')\n",
    "    query.append('sweetness')\n",
    "    query.append('sugar')\n",
    "elif style == 'dry':\n",
    "    query.append('dry')\n",
    "    query.append('savory')\n",
    "    query.append('bitter')"
   ]
  },
  {
   "cell_type": "code",
   "execution_count": 327,
   "metadata": {},
   "outputs": [
    {
     "name": "stdout",
     "output_type": "stream",
     "text": [
      "Which best describes your preferred wine style:\n",
      "1. Light and refreshing\n",
      "2. Smooth and balanced\n",
      "3. Full and rich\n",
      "Enter 1, 2, or 3: 2\n"
     ]
    }
   ],
   "source": [
    "print('Which best describes your preferred wine style:')\n",
    "print('1. Light and refreshing')\n",
    "print('2. Smooth and balanced')\n",
    "print('3. Full and rich')\n",
    "style_2 = input('Enter 1, 2, or 3: ')"
   ]
  },
  {
   "cell_type": "code",
   "execution_count": 328,
   "metadata": {},
   "outputs": [],
   "source": [
    "if style_2 == '1':\n",
    "    query.append('light')\n",
    "    query.append('refreshing')\n",
    "    query.append('bright')\n",
    "    query.append('racy')\n",
    "elif style_2 == '2':\n",
    "    query.append('smooth')\n",
    "    query.append('balanced')\n",
    "    query.append('polished')\n",
    "    query.append('silky')\n",
    "elif style_2 == '3':\n",
    "    query.append('full')\n",
    "    query.append('rich')\n",
    "    query.append('dense')\n",
    "    query.append('tannin')\n",
    "    query.append('tannic')\n",
    "    query.append('chewy')\n",
    "    query.append('heavy')\n",
    "else:\n",
    "    style_2 = input('Enter 1, 2, or 3: ')\n",
    "    #continue"
   ]
  },
  {
   "cell_type": "code",
   "execution_count": 329,
   "metadata": {},
   "outputs": [
    {
     "name": "stdout",
     "output_type": "stream",
     "text": [
      "Which is more appealing fruity or earthy: fruity\n"
     ]
    }
   ],
   "source": [
    "appealing = input('Which is more appealing fruity or earthy: ')"
   ]
  },
  {
   "cell_type": "code",
   "execution_count": 330,
   "metadata": {},
   "outputs": [],
   "source": [
    "if appealing == 'fruity':\n",
    "    query.append('fruity')\n",
    "    query.append('fruitiness')\n",
    "    query.append('jam')\n",
    "    query.append('jammy')\n",
    "elif appealing == 'earthy':\n",
    "    query.append('earthy')\n",
    "    query.append('earth')\n",
    "    query.append('soil')\n",
    "    query.append('minerality')\n",
    "    query.append('graphite')\n",
    "    \n",
    "else:\n",
    "    appealing = input('Which is more appealing fruity or earthy: ')"
   ]
  },
  {
   "cell_type": "code",
   "execution_count": 108,
   "metadata": {},
   "outputs": [],
   "source": [
    "#print('Which do you prefer: ')\n",
    "#print('1. Wines that finish soft and light.')\n",
    "#print('2. Wines that linger on your palate after they have finished.')\n",
    "#finish = input('Enter 1 or 2: ')"
   ]
  },
  {
   "cell_type": "code",
   "execution_count": 109,
   "metadata": {},
   "outputs": [],
   "source": [
    "#if finish == '1':\n",
    "#    query.append('soft')\n",
    "#    query.append('light')\n",
    "#    query.append('fine')\n",
    "#    query.append('round')\n",
    "#elif finish == '2':\n",
    "#    query.append('long')\n",
    "#    query.append('linger')\n",
    "#    query.append('texture')  \n",
    "    \n",
    "#this question asked with a 1 seems to help pinot nior. that good or bad?"
   ]
  },
  {
   "cell_type": "code",
   "execution_count": 331,
   "metadata": {},
   "outputs": [
    {
     "name": "stdout",
     "output_type": "stream",
     "text": [
      "Do you like flavors that remind you of caramel, toast and spice (yes or no)? yes\n"
     ]
    }
   ],
   "source": [
    "flavor = input('Do you like flavors that remind you of caramel, toast and spice (yes or no)? ')"
   ]
  },
  {
   "cell_type": "code",
   "execution_count": 304,
   "metadata": {},
   "outputs": [],
   "source": [
    "if flavor == 'yes':\n",
    "    query.append('carmel')\n",
    "    query.append('toast')\n",
    "    query.append('spice')\n",
    "    query.append('oak')\n",
    "    query.append('oaky')\n",
    "    query.append('smokey')\n",
    "    query.append('toasty')\n",
    "    query.append('smoke')\n",
    "    query.append('cedar')\n",
    "    query.append('tea')"
   ]
  },
  {
   "cell_type": "code",
   "execution_count": 332,
   "metadata": {},
   "outputs": [
    {
     "data": {
      "text/plain": [
       "['dry',\n",
       " 'savory',\n",
       " 'bitter',\n",
       " 'smooth',\n",
       " 'balanced',\n",
       " 'polished',\n",
       " 'silky',\n",
       " 'fruity',\n",
       " 'fruitiness',\n",
       " 'jam',\n",
       " 'jammy']"
      ]
     },
     "execution_count": 332,
     "metadata": {},
     "output_type": "execute_result"
    }
   ],
   "source": [
    "query"
   ]
  },
  {
   "cell_type": "code",
   "execution_count": 333,
   "metadata": {},
   "outputs": [],
   "source": [
    "query = [' '.join(query)]"
   ]
  },
  {
   "cell_type": "code",
   "execution_count": 334,
   "metadata": {},
   "outputs": [
    {
     "data": {
      "text/plain": [
       "['dry savory bitter smooth balanced polished silky fruity fruitiness jam jammy']"
      ]
     },
     "execution_count": 334,
     "metadata": {},
     "output_type": "execute_result"
    }
   ],
   "source": [
    "query"
   ]
  },
  {
   "cell_type": "code",
   "execution_count": 336,
   "metadata": {},
   "outputs": [],
   "source": [
    "model = ['red']"
   ]
  },
  {
   "cell_type": "code",
   "execution_count": 337,
   "metadata": {},
   "outputs": [
    {
     "data": {
      "text/plain": [
       "['red']"
      ]
     },
     "execution_count": 337,
     "metadata": {},
     "output_type": "execute_result"
    }
   ],
   "source": [
    "model"
   ]
  },
  {
   "cell_type": "code",
   "execution_count": 338,
   "metadata": {},
   "outputs": [],
   "source": [
    "if model[0] == 'all':\n",
    "    m = m_all\n",
    "    bow = bow_all\n",
    "elif model[0] == 'red':\n",
    "    m = m_red\n",
    "    bow = bow_red\n",
    "elif model[0] == 'white':\n",
    "    m = m_white\n",
    "    bow = bow_white\n",
    "elif model[0] == 'white_rose':\n",
    "    m = m_w_r\n",
    "    bow = bow_w_r"
   ]
  },
  {
   "cell_type": "code",
   "execution_count": 339,
   "metadata": {},
   "outputs": [
    {
     "data": {
      "text/plain": [
       "array(['Zinfandel'], dtype='<U29')"
      ]
     },
     "execution_count": 339,
     "metadata": {},
     "output_type": "execute_result"
    }
   ],
   "source": [
    "m.predict(bow.transform(query))"
   ]
  },
  {
   "cell_type": "code",
   "execution_count": 340,
   "metadata": {},
   "outputs": [
    {
     "data": {
      "text/plain": [
       "0.37626135477582134"
      ]
     },
     "execution_count": 340,
     "metadata": {},
     "output_type": "execute_result"
    }
   ],
   "source": [
    "m.predict_proba(bow.transform(query)).max()"
   ]
  },
  {
   "cell_type": "code",
   "execution_count": 177,
   "metadata": {},
   "outputs": [
    {
     "data": {
      "text/plain": [
       "array([[1.65737998e-02, 1.36292992e-06, 8.92422950e-03, 5.99728419e-02,\n",
       "        2.43910737e-04, 5.38968395e-05, 1.17237618e-16, 2.62148630e-05,\n",
       "        7.70855580e-04, 2.10191172e-02, 3.69972912e-07, 4.98679816e-05,\n",
       "        6.85724405e-01, 2.35331054e-13, 8.23810511e-16, 1.38336548e-01,\n",
       "        8.50677492e-06, 1.27856904e-04, 2.60546425e-05, 1.45811794e-04,\n",
       "        6.66655573e-02, 9.73681881e-04, 2.77341454e-04, 7.77688081e-05]])"
      ]
     },
     "execution_count": 177,
     "metadata": {},
     "output_type": "execute_result"
    }
   ],
   "source": [
    "m.predict_proba(bow.transform(query))"
   ]
  },
  {
   "cell_type": "code",
   "execution_count": 341,
   "metadata": {},
   "outputs": [],
   "source": [
    "df_pred = pd.DataFrame(m.predict_proba(bow.transform(query)).T.round(4), index=m.classes_ ,columns=['probability'])"
   ]
  },
  {
   "cell_type": "code",
   "execution_count": 342,
   "metadata": {},
   "outputs": [
    {
     "data": {
      "text/html": [
       "<div>\n",
       "<style scoped>\n",
       "    .dataframe tbody tr th:only-of-type {\n",
       "        vertical-align: middle;\n",
       "    }\n",
       "\n",
       "    .dataframe tbody tr th {\n",
       "        vertical-align: top;\n",
       "    }\n",
       "\n",
       "    .dataframe thead th {\n",
       "        text-align: right;\n",
       "    }\n",
       "</style>\n",
       "<table border=\"1\" class=\"dataframe\">\n",
       "  <thead>\n",
       "    <tr style=\"text-align: right;\">\n",
       "      <th></th>\n",
       "      <th>probability</th>\n",
       "    </tr>\n",
       "  </thead>\n",
       "  <tbody>\n",
       "    <tr>\n",
       "      <th>Zinfandel</th>\n",
       "      <td>0.3763</td>\n",
       "    </tr>\n",
       "    <tr>\n",
       "      <th>Pinot Noir</th>\n",
       "      <td>0.3665</td>\n",
       "    </tr>\n",
       "    <tr>\n",
       "      <th>Bordeaux-style Red Blend</th>\n",
       "      <td>0.0792</td>\n",
       "    </tr>\n",
       "    <tr>\n",
       "      <th>Merlot</th>\n",
       "      <td>0.0399</td>\n",
       "    </tr>\n",
       "    <tr>\n",
       "      <th>Corvina, Rondinella, Molinara</th>\n",
       "      <td>0.0374</td>\n",
       "    </tr>\n",
       "    <tr>\n",
       "      <th>Syrah</th>\n",
       "      <td>0.0251</td>\n",
       "    </tr>\n",
       "    <tr>\n",
       "      <th>Port</th>\n",
       "      <td>0.0171</td>\n",
       "    </tr>\n",
       "    <tr>\n",
       "      <th>Cabernet Franc</th>\n",
       "      <td>0.0154</td>\n",
       "    </tr>\n",
       "    <tr>\n",
       "      <th>Barbera</th>\n",
       "      <td>0.0138</td>\n",
       "    </tr>\n",
       "    <tr>\n",
       "      <th>Cabernet Sauvignon</th>\n",
       "      <td>0.0126</td>\n",
       "    </tr>\n",
       "    <tr>\n",
       "      <th>Red Blend</th>\n",
       "      <td>0.0059</td>\n",
       "    </tr>\n",
       "    <tr>\n",
       "      <th>Sangiovese Grosso</th>\n",
       "      <td>0.0041</td>\n",
       "    </tr>\n",
       "    <tr>\n",
       "      <th>Malbec</th>\n",
       "      <td>0.0040</td>\n",
       "    </tr>\n",
       "    <tr>\n",
       "      <th>Petite Sirah</th>\n",
       "      <td>0.0025</td>\n",
       "    </tr>\n",
       "    <tr>\n",
       "      <th>Rhône-style Red Blend</th>\n",
       "      <td>0.0001</td>\n",
       "    </tr>\n",
       "    <tr>\n",
       "      <th>Shiraz</th>\n",
       "      <td>0.0001</td>\n",
       "    </tr>\n",
       "    <tr>\n",
       "      <th>Grenache</th>\n",
       "      <td>0.0000</td>\n",
       "    </tr>\n",
       "    <tr>\n",
       "      <th>Nebbiolo</th>\n",
       "      <td>0.0000</td>\n",
       "    </tr>\n",
       "    <tr>\n",
       "      <th>Gamay</th>\n",
       "      <td>0.0000</td>\n",
       "    </tr>\n",
       "    <tr>\n",
       "      <th>Portuguese Red</th>\n",
       "      <td>0.0000</td>\n",
       "    </tr>\n",
       "    <tr>\n",
       "      <th>Sangiovese</th>\n",
       "      <td>0.0000</td>\n",
       "    </tr>\n",
       "    <tr>\n",
       "      <th>Carmenère</th>\n",
       "      <td>0.0000</td>\n",
       "    </tr>\n",
       "    <tr>\n",
       "      <th>Tempranillo</th>\n",
       "      <td>0.0000</td>\n",
       "    </tr>\n",
       "    <tr>\n",
       "      <th>Tempranillo Blend</th>\n",
       "      <td>0.0000</td>\n",
       "    </tr>\n",
       "  </tbody>\n",
       "</table>\n",
       "</div>"
      ],
      "text/plain": [
       "                               probability\n",
       "Zinfandel                           0.3763\n",
       "Pinot Noir                          0.3665\n",
       "Bordeaux-style Red Blend            0.0792\n",
       "Merlot                              0.0399\n",
       "Corvina, Rondinella, Molinara       0.0374\n",
       "Syrah                               0.0251\n",
       "Port                                0.0171\n",
       "Cabernet Franc                      0.0154\n",
       "Barbera                             0.0138\n",
       "Cabernet Sauvignon                  0.0126\n",
       "Red Blend                           0.0059\n",
       "Sangiovese Grosso                   0.0041\n",
       "Malbec                              0.0040\n",
       "Petite Sirah                        0.0025\n",
       "Rhône-style Red Blend               0.0001\n",
       "Shiraz                              0.0001\n",
       "Grenache                            0.0000\n",
       "Nebbiolo                            0.0000\n",
       "Gamay                               0.0000\n",
       "Portuguese Red                      0.0000\n",
       "Sangiovese                          0.0000\n",
       "Carmenère                           0.0000\n",
       "Tempranillo                         0.0000\n",
       "Tempranillo Blend                   0.0000"
      ]
     },
     "execution_count": 342,
     "metadata": {},
     "output_type": "execute_result"
    }
   ],
   "source": [
    "df_pred.sort_values(by='probability', ascending=False)\n",
    "#if full and rich negate Pinot Noir"
   ]
  },
  {
   "cell_type": "code",
   "execution_count": null,
   "metadata": {},
   "outputs": [],
   "source": []
  }
 ],
 "metadata": {
  "kernelspec": {
   "display_name": "Python 3",
   "language": "python",
   "name": "python3"
  },
  "language_info": {
   "codemirror_mode": {
    "name": "ipython",
    "version": 3
   },
   "file_extension": ".py",
   "mimetype": "text/x-python",
   "name": "python",
   "nbconvert_exporter": "python",
   "pygments_lexer": "ipython3",
   "version": "3.7.4"
  }
 },
 "nbformat": 4,
 "nbformat_minor": 4
}
