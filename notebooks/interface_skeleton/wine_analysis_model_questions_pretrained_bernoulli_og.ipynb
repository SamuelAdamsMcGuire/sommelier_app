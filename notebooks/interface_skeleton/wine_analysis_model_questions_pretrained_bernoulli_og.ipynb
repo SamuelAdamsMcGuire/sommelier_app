{
 "cells": [
  {
   "cell_type": "code",
   "execution_count": 53,
   "metadata": {},
   "outputs": [],
   "source": [
    "import pickle\n",
    "import spacy\n",
    "import pandas as pd\n",
    "import numpy as np\n",
    "from sklearn.naive_bayes import MultinomialNB, GaussianNB, BernoulliNB, CategoricalNB\n",
    "from sklearn.ensemble import RandomForestClassifier, GradientBoostingClassifier\n",
    "from sklearn.feature_extraction.text import CountVectorizer, TfidfTransformer\n",
    "from sklearn.model_selection import train_test_split, cross_val_score\n",
    "from sklearn.pipeline import Pipeline\n",
    "from sklearn.linear_model import LogisticRegression\n",
    "from sklearn import metrics"
   ]
  },
  {
   "cell_type": "code",
   "execution_count": 54,
   "metadata": {},
   "outputs": [],
   "source": [
    "nlp = spacy.load(\"en_core_web_sm\", disable=[\"parser\", \"textcat\", \"ner\"])"
   ]
  },
  {
   "cell_type": "code",
   "execution_count": 55,
   "metadata": {},
   "outputs": [],
   "source": [
    "#df_red = pd.read_csv('../data/df_red.csv', index_col = 0)\n",
    "#df_w_r = pd.read_csv('../data/df_w_r.csv', index_col = 0)\n",
    "#df_white = pd.read_csv('../data/df_white.csv', index_col = 0)\n",
    "#df_all = pd.read_csv('../data/df_nonans.csv', index_col = 0)"
   ]
  },
  {
   "cell_type": "code",
   "execution_count": 56,
   "metadata": {},
   "outputs": [],
   "source": [
    "def custom_tokenizer(text):\n",
    "    '''\n",
    "    used to filter out unwanted words, punctuation, and so on\n",
    "    '''\n",
    "    tokens = []\n",
    "    for t in nlp(text):\n",
    "        if not(len(t) < 2 or t.is_stop or t.like_num or \n",
    "               t.is_punct or not t.is_alpha):\n",
    "            tokens.append(t.lemma_)\n",
    "    return tokens "
   ]
  },
  {
   "cell_type": "code",
   "execution_count": 57,
   "metadata": {},
   "outputs": [],
   "source": [
    "with open('../models/bern/bow.p', 'rb') as f:\n",
    "    bow_all = pickle.load(f)\n",
    "with open('../models/bern/bow_red.p', 'rb') as f:\n",
    "    bow_red = pickle.load(f)\n",
    "with open('../models/bern/bow_w_r.p', 'rb') as f:\n",
    "    bow_w_r = pickle.load(f)\n",
    "with open('../models/bern/bow_white.p', 'rb') as f:\n",
    "    bow_white = pickle.load(f)"
   ]
  },
  {
   "cell_type": "code",
   "execution_count": 58,
   "metadata": {},
   "outputs": [],
   "source": [
    "with open('../models/bern/m.p', 'rb') as f:\n",
    "    m_all = pickle.load(f)\n",
    "with open('../models/bern/m_red.p', 'rb') as f:\n",
    "    m_red = pickle.load(f)\n",
    "with open('../models/bern/m_w_r.p', 'rb') as f:\n",
    "    m_w_r = pickle.load(f)\n",
    "with open('../models/bern/m_white.p', 'rb') as f:\n",
    "    m_white = pickle.load(f)"
   ]
  },
  {
   "cell_type": "code",
   "execution_count": 59,
   "metadata": {},
   "outputs": [],
   "source": [
    "query = []\n",
    "model = []"
   ]
  },
  {
   "cell_type": "code",
   "execution_count": 60,
   "metadata": {},
   "outputs": [
    {
     "name": "stdout",
     "output_type": "stream",
     "text": [
      "Would you like red, white or either: either\n"
     ]
    }
   ],
   "source": [
    "wine_type = input('Would you like red, white or either: ')"
   ]
  },
  {
   "cell_type": "code",
   "execution_count": 73,
   "metadata": {},
   "outputs": [],
   "source": [
    "if wine_type == 'red':\n",
    "    model.append('red')\n",
    "elif wine_type == 'white':\n",
    "    rose = input('Should we include Rosé wine too? ')\n",
    "    if rose == 'yes': \n",
    "        model.append('white_rose')\n",
    "    elif rose == 'no':\n",
    "        model.append('white')\n",
    "elif wine_type == 'either':\n",
    "    model.append('all')\n",
    "else:\n",
    "    wine_type = input('Would you like red, white or either:')"
   ]
  },
  {
   "cell_type": "code",
   "execution_count": 61,
   "metadata": {},
   "outputs": [
    {
     "name": "stdout",
     "output_type": "stream",
     "text": [
      "Do you prefer sweet or dry wine: dry\n"
     ]
    }
   ],
   "source": [
    "style = input('Do you prefer sweet or dry wine: ')"
   ]
  },
  {
   "cell_type": "code",
   "execution_count": 62,
   "metadata": {},
   "outputs": [],
   "source": [
    "if style == 'sweet':\n",
    "    query.append('sweet')\n",
    "    query.append('sweetness')\n",
    "    query.append('sugar')\n",
    "elif style == 'dry':\n",
    "    query.append('dry')\n",
    "    query.append('savory')\n",
    "    query.append('bitter')"
   ]
  },
  {
   "cell_type": "code",
   "execution_count": 63,
   "metadata": {},
   "outputs": [
    {
     "name": "stdout",
     "output_type": "stream",
     "text": [
      "Which best describes your preferred wine style:\n",
      "1. Light and refreshing\n",
      "2. Smooth and balanced\n",
      "3. Full and rich\n",
      "Enter 1, 2, or 3: 2\n"
     ]
    }
   ],
   "source": [
    "print('Which best describes your preferred wine style:')\n",
    "print('1. Light and refreshing')\n",
    "print('2. Smooth and balanced')\n",
    "print('3. Full and rich')\n",
    "style_2 = input('Enter 1, 2, or 3: ')"
   ]
  },
  {
   "cell_type": "code",
   "execution_count": 64,
   "metadata": {},
   "outputs": [],
   "source": [
    "if style_2 == '1':\n",
    "    query.append('light')\n",
    "    query.append('refreshing')\n",
    "    query.append('bright')\n",
    "    query.append('racy')\n",
    "elif style_2 == '2':\n",
    "    query.append('smooth')\n",
    "    query.append('balanced')\n",
    "    query.append('polished')\n",
    "    query.append('silky')\n",
    "elif style_2 == '3':\n",
    "    query.append('full')\n",
    "    query.append('rich')\n",
    "    query.append('dense')\n",
    "    query.append('tannin')\n",
    "    query.append('tannic')\n",
    "    query.append('chewy')\n",
    "    query.append('heavy')\n",
    "else:\n",
    "    style_2 = input('Enter 1, 2, or 3: ')\n",
    "    #continue"
   ]
  },
  {
   "cell_type": "code",
   "execution_count": 65,
   "metadata": {},
   "outputs": [
    {
     "name": "stdout",
     "output_type": "stream",
     "text": [
      "Which is more appealing fruity or earthy: fruity\n"
     ]
    }
   ],
   "source": [
    "appealing = input('Which is more appealing fruity or earthy: ')"
   ]
  },
  {
   "cell_type": "code",
   "execution_count": 66,
   "metadata": {},
   "outputs": [],
   "source": [
    "if appealing == 'fruity':\n",
    "    query.append('fruity')\n",
    "    query.append('fruitiness')\n",
    "    query.append('jam')\n",
    "    query.append('jammy')\n",
    "elif appealing == 'earthy':\n",
    "    query.append('earthy')\n",
    "    query.append('earth')\n",
    "    query.append('soil')\n",
    "    query.append('minerality')\n",
    "    query.append('graphite')\n",
    "    \n",
    "else:\n",
    "    appealing = input('Which is more appealing fruity or earthy: ')"
   ]
  },
  {
   "cell_type": "code",
   "execution_count": 108,
   "metadata": {},
   "outputs": [],
   "source": [
    "#print('Which do you prefer: ')\n",
    "#print('1. Wines that finish soft and light.')\n",
    "#print('2. Wines that linger on your palate after they have finished.')\n",
    "#finish = input('Enter 1 or 2: ')"
   ]
  },
  {
   "cell_type": "code",
   "execution_count": 109,
   "metadata": {},
   "outputs": [],
   "source": [
    "#if finish == '1':\n",
    "#    query.append('soft')\n",
    "#    query.append('light')\n",
    "#    query.append('fine')\n",
    "#    query.append('round')\n",
    "#elif finish == '2':\n",
    "#    query.append('long')\n",
    "#    query.append('linger')\n",
    "#    query.append('texture')  \n",
    "    \n",
    "#this question asked with a 1 seems to help pinot nior. that good or bad?"
   ]
  },
  {
   "cell_type": "code",
   "execution_count": 67,
   "metadata": {},
   "outputs": [
    {
     "name": "stdout",
     "output_type": "stream",
     "text": [
      "Do you like flavors that remind you of caramel, toast and spice (yes or no)? no\n"
     ]
    }
   ],
   "source": [
    "flavor = input('Do you like flavors that remind you of caramel, toast and spice (yes or no)? ')"
   ]
  },
  {
   "cell_type": "code",
   "execution_count": 68,
   "metadata": {},
   "outputs": [],
   "source": [
    "if flavor == 'yes':\n",
    "    query.append('carmel')\n",
    "    query.append('toast')\n",
    "    query.append('spice')\n",
    "    query.append('oak')\n",
    "    query.append('oaky')\n",
    "    query.append('smokey')\n",
    "    query.append('toasty')\n",
    "    query.append('smoke')\n",
    "    query.append('cedar')\n",
    "    query.append('tea')"
   ]
  },
  {
   "cell_type": "code",
   "execution_count": 69,
   "metadata": {},
   "outputs": [
    {
     "data": {
      "text/plain": [
       "['dry',\n",
       " 'savory',\n",
       " 'bitter',\n",
       " 'smooth',\n",
       " 'balanced',\n",
       " 'polished',\n",
       " 'silky',\n",
       " 'fruity',\n",
       " 'fruitiness',\n",
       " 'jam',\n",
       " 'jammy']"
      ]
     },
     "execution_count": 69,
     "metadata": {},
     "output_type": "execute_result"
    }
   ],
   "source": [
    "query"
   ]
  },
  {
   "cell_type": "code",
   "execution_count": 70,
   "metadata": {},
   "outputs": [],
   "source": [
    "query = [' '.join(query)]"
   ]
  },
  {
   "cell_type": "code",
   "execution_count": 71,
   "metadata": {},
   "outputs": [
    {
     "data": {
      "text/plain": [
       "['dry savory bitter smooth balanced polished silky fruity fruitiness jam jammy']"
      ]
     },
     "execution_count": 71,
     "metadata": {},
     "output_type": "execute_result"
    }
   ],
   "source": [
    "query"
   ]
  },
  {
   "cell_type": "code",
   "execution_count": 74,
   "metadata": {},
   "outputs": [
    {
     "data": {
      "text/plain": [
       "['all']"
      ]
     },
     "execution_count": 74,
     "metadata": {},
     "output_type": "execute_result"
    }
   ],
   "source": [
    "model"
   ]
  },
  {
   "cell_type": "code",
   "execution_count": 75,
   "metadata": {},
   "outputs": [],
   "source": [
    "if model[0] == 'all':\n",
    "    m = m_all\n",
    "    bow = bow_all\n",
    "elif model[0] == 'red':\n",
    "    m = m_red\n",
    "    bow = bow_red\n",
    "elif model[0] == 'white':\n",
    "    m = m_white\n",
    "    bow = bow_white\n",
    "elif model[0] == 'white_rose':\n",
    "    m = m_w_r\n",
    "    bow = bow_w_r"
   ]
  },
  {
   "cell_type": "code",
   "execution_count": 76,
   "metadata": {},
   "outputs": [
    {
     "data": {
      "text/plain": [
       "array(['Zinfandel'], dtype='<U29')"
      ]
     },
     "execution_count": 76,
     "metadata": {},
     "output_type": "execute_result"
    }
   ],
   "source": [
    "m.predict(bow.transform(query))"
   ]
  },
  {
   "cell_type": "code",
   "execution_count": 77,
   "metadata": {},
   "outputs": [
    {
     "data": {
      "text/plain": [
       "0.5290776419532633"
      ]
     },
     "execution_count": 77,
     "metadata": {},
     "output_type": "execute_result"
    }
   ],
   "source": [
    "m.predict_proba(bow.transform(query)).max()"
   ]
  },
  {
   "cell_type": "code",
   "execution_count": 63,
   "metadata": {},
   "outputs": [
    {
     "data": {
      "text/plain": [
       "0.5440994170651844"
      ]
     },
     "execution_count": 63,
     "metadata": {},
     "output_type": "execute_result"
    }
   ],
   "source": [
    "np.sort(m.predict_proba(bow.transform(query)))[0][-1]"
   ]
  },
  {
   "cell_type": "code",
   "execution_count": 177,
   "metadata": {},
   "outputs": [
    {
     "data": {
      "text/plain": [
       "array([[1.65737998e-02, 1.36292992e-06, 8.92422950e-03, 5.99728419e-02,\n",
       "        2.43910737e-04, 5.38968395e-05, 1.17237618e-16, 2.62148630e-05,\n",
       "        7.70855580e-04, 2.10191172e-02, 3.69972912e-07, 4.98679816e-05,\n",
       "        6.85724405e-01, 2.35331054e-13, 8.23810511e-16, 1.38336548e-01,\n",
       "        8.50677492e-06, 1.27856904e-04, 2.60546425e-05, 1.45811794e-04,\n",
       "        6.66655573e-02, 9.73681881e-04, 2.77341454e-04, 7.77688081e-05]])"
      ]
     },
     "execution_count": 177,
     "metadata": {},
     "output_type": "execute_result"
    }
   ],
   "source": [
    "m.predict_proba(bow.transform(query))"
   ]
  },
  {
   "cell_type": "code",
   "execution_count": 28,
   "metadata": {},
   "outputs": [
    {
     "data": {
      "text/plain": [
       "array(['Barbera', 'Bordeaux-style Red Blend', 'Cabernet Franc',\n",
       "       'Cabernet Sauvignon', 'Carmenère', 'Corvina, Rondinella, Molinara',\n",
       "       'Gamay', 'Grenache', 'Malbec', 'Merlot', 'Nebbiolo',\n",
       "       'Petite Sirah', 'Pinot Noir', 'Port', 'Portuguese Red',\n",
       "       'Red Blend', 'Rhône-style Red Blend', 'Sangiovese',\n",
       "       'Sangiovese Grosso', 'Shiraz', 'Syrah', 'Tempranillo',\n",
       "       'Tempranillo Blend', 'Zinfandel'], dtype='<U29')"
      ]
     },
     "execution_count": 28,
     "metadata": {},
     "output_type": "execute_result"
    }
   ],
   "source": [
    "m.classes_"
   ]
  },
  {
   "cell_type": "code",
   "execution_count": null,
   "metadata": {},
   "outputs": [],
   "source": []
  },
  {
   "cell_type": "code",
   "execution_count": 78,
   "metadata": {},
   "outputs": [],
   "source": [
    "df_pred = pd.DataFrame(m.predict_proba(bow.transform(query)).T.round(4), index=m.classes_ ,columns=['probability'])"
   ]
  },
  {
   "cell_type": "code",
   "execution_count": 79,
   "metadata": {},
   "outputs": [
    {
     "data": {
      "text/html": [
       "<div>\n",
       "<style scoped>\n",
       "    .dataframe tbody tr th:only-of-type {\n",
       "        vertical-align: middle;\n",
       "    }\n",
       "\n",
       "    .dataframe tbody tr th {\n",
       "        vertical-align: top;\n",
       "    }\n",
       "\n",
       "    .dataframe thead th {\n",
       "        text-align: right;\n",
       "    }\n",
       "</style>\n",
       "<table border=\"1\" class=\"dataframe\">\n",
       "  <thead>\n",
       "    <tr style=\"text-align: right;\">\n",
       "      <th></th>\n",
       "      <th>probability</th>\n",
       "    </tr>\n",
       "  </thead>\n",
       "  <tbody>\n",
       "    <tr>\n",
       "      <th>Zinfandel</th>\n",
       "      <td>0.5291</td>\n",
       "    </tr>\n",
       "    <tr>\n",
       "      <th>Pinot Noir</th>\n",
       "      <td>0.2295</td>\n",
       "    </tr>\n",
       "    <tr>\n",
       "      <th>Merlot</th>\n",
       "      <td>0.0601</td>\n",
       "    </tr>\n",
       "    <tr>\n",
       "      <th>Bordeaux-style Red Blend</th>\n",
       "      <td>0.0582</td>\n",
       "    </tr>\n",
       "    <tr>\n",
       "      <th>Barbera</th>\n",
       "      <td>0.0276</td>\n",
       "    </tr>\n",
       "    <tr>\n",
       "      <th>Syrah</th>\n",
       "      <td>0.0220</td>\n",
       "    </tr>\n",
       "    <tr>\n",
       "      <th>Corvina, Rondinella, Molinara</th>\n",
       "      <td>0.0195</td>\n",
       "    </tr>\n",
       "    <tr>\n",
       "      <th>Port</th>\n",
       "      <td>0.0186</td>\n",
       "    </tr>\n",
       "    <tr>\n",
       "      <th>Cabernet Sauvignon</th>\n",
       "      <td>0.0125</td>\n",
       "    </tr>\n",
       "    <tr>\n",
       "      <th>Red Blend</th>\n",
       "      <td>0.0102</td>\n",
       "    </tr>\n",
       "    <tr>\n",
       "      <th>Cabernet Franc</th>\n",
       "      <td>0.0033</td>\n",
       "    </tr>\n",
       "    <tr>\n",
       "      <th>Chardonnay</th>\n",
       "      <td>0.0023</td>\n",
       "    </tr>\n",
       "    <tr>\n",
       "      <th>Sangiovese Grosso</th>\n",
       "      <td>0.0016</td>\n",
       "    </tr>\n",
       "    <tr>\n",
       "      <th>Rosé</th>\n",
       "      <td>0.0013</td>\n",
       "    </tr>\n",
       "    <tr>\n",
       "      <th>Malbec</th>\n",
       "      <td>0.0013</td>\n",
       "    </tr>\n",
       "    <tr>\n",
       "      <th>Petite Sirah</th>\n",
       "      <td>0.0006</td>\n",
       "    </tr>\n",
       "    <tr>\n",
       "      <th>Shiraz</th>\n",
       "      <td>0.0006</td>\n",
       "    </tr>\n",
       "    <tr>\n",
       "      <th>Pinot Gris</th>\n",
       "      <td>0.0003</td>\n",
       "    </tr>\n",
       "    <tr>\n",
       "      <th>Pinot Grigio</th>\n",
       "      <td>0.0002</td>\n",
       "    </tr>\n",
       "    <tr>\n",
       "      <th>Grenache</th>\n",
       "      <td>0.0002</td>\n",
       "    </tr>\n",
       "    <tr>\n",
       "      <th>Sauvignon Blanc</th>\n",
       "      <td>0.0002</td>\n",
       "    </tr>\n",
       "    <tr>\n",
       "      <th>Sangiovese</th>\n",
       "      <td>0.0002</td>\n",
       "    </tr>\n",
       "    <tr>\n",
       "      <th>Gewürztraminer</th>\n",
       "      <td>0.0001</td>\n",
       "    </tr>\n",
       "    <tr>\n",
       "      <th>Viognier</th>\n",
       "      <td>0.0001</td>\n",
       "    </tr>\n",
       "    <tr>\n",
       "      <th>Rhône-style Red Blend</th>\n",
       "      <td>0.0001</td>\n",
       "    </tr>\n",
       "    <tr>\n",
       "      <th>White Blend</th>\n",
       "      <td>0.0001</td>\n",
       "    </tr>\n",
       "    <tr>\n",
       "      <th>Tempranillo</th>\n",
       "      <td>0.0000</td>\n",
       "    </tr>\n",
       "    <tr>\n",
       "      <th>Tempranillo Blend</th>\n",
       "      <td>0.0000</td>\n",
       "    </tr>\n",
       "    <tr>\n",
       "      <th>Carmenère</th>\n",
       "      <td>0.0000</td>\n",
       "    </tr>\n",
       "    <tr>\n",
       "      <th>Riesling</th>\n",
       "      <td>0.0000</td>\n",
       "    </tr>\n",
       "    <tr>\n",
       "      <th>Portuguese White</th>\n",
       "      <td>0.0000</td>\n",
       "    </tr>\n",
       "    <tr>\n",
       "      <th>Bordeaux-style White Blend</th>\n",
       "      <td>0.0000</td>\n",
       "    </tr>\n",
       "    <tr>\n",
       "      <th>Nebbiolo</th>\n",
       "      <td>0.0000</td>\n",
       "    </tr>\n",
       "    <tr>\n",
       "      <th>Grüner Veltliner</th>\n",
       "      <td>0.0000</td>\n",
       "    </tr>\n",
       "    <tr>\n",
       "      <th>Gamay</th>\n",
       "      <td>0.0000</td>\n",
       "    </tr>\n",
       "    <tr>\n",
       "      <th>Chenin Blanc</th>\n",
       "      <td>0.0000</td>\n",
       "    </tr>\n",
       "    <tr>\n",
       "      <th>Portuguese Red</th>\n",
       "      <td>0.0000</td>\n",
       "    </tr>\n",
       "  </tbody>\n",
       "</table>\n",
       "</div>"
      ],
      "text/plain": [
       "                               probability\n",
       "Zinfandel                           0.5291\n",
       "Pinot Noir                          0.2295\n",
       "Merlot                              0.0601\n",
       "Bordeaux-style Red Blend            0.0582\n",
       "Barbera                             0.0276\n",
       "Syrah                               0.0220\n",
       "Corvina, Rondinella, Molinara       0.0195\n",
       "Port                                0.0186\n",
       "Cabernet Sauvignon                  0.0125\n",
       "Red Blend                           0.0102\n",
       "Cabernet Franc                      0.0033\n",
       "Chardonnay                          0.0023\n",
       "Sangiovese Grosso                   0.0016\n",
       "Rosé                                0.0013\n",
       "Malbec                              0.0013\n",
       "Petite Sirah                        0.0006\n",
       "Shiraz                              0.0006\n",
       "Pinot Gris                          0.0003\n",
       "Pinot Grigio                        0.0002\n",
       "Grenache                            0.0002\n",
       "Sauvignon Blanc                     0.0002\n",
       "Sangiovese                          0.0002\n",
       "Gewürztraminer                      0.0001\n",
       "Viognier                            0.0001\n",
       "Rhône-style Red Blend               0.0001\n",
       "White Blend                         0.0001\n",
       "Tempranillo                         0.0000\n",
       "Tempranillo Blend                   0.0000\n",
       "Carmenère                           0.0000\n",
       "Riesling                            0.0000\n",
       "Portuguese White                    0.0000\n",
       "Bordeaux-style White Blend          0.0000\n",
       "Nebbiolo                            0.0000\n",
       "Grüner Veltliner                    0.0000\n",
       "Gamay                               0.0000\n",
       "Chenin Blanc                        0.0000\n",
       "Portuguese Red                      0.0000"
      ]
     },
     "execution_count": 79,
     "metadata": {},
     "output_type": "execute_result"
    }
   ],
   "source": [
    "df_pred.sort_values(by='probability', ascending=False)\n",
    "#if full and rich negate Pinot Noir"
   ]
  },
  {
   "cell_type": "code",
   "execution_count": 52,
   "metadata": {},
   "outputs": [
    {
     "data": {
      "text/plain": [
       "['Port', 'Zinfandel', 'Pinot Noir']"
      ]
     },
     "execution_count": 52,
     "metadata": {},
     "output_type": "execute_result"
    }
   ],
   "source": [
    "list(df_pred.sort_values(by='probability', ascending=False).head(3).index)"
   ]
  },
  {
   "cell_type": "code",
   "execution_count": 51,
   "metadata": {},
   "outputs": [
    {
     "data": {
      "text/plain": [
       "['Port', 'Zinfandel', 'Pinot Noir']"
      ]
     },
     "execution_count": 51,
     "metadata": {},
     "output_type": "execute_result"
    }
   ],
   "source": [
    "list(top_3.index)"
   ]
  }
 ],
 "metadata": {
  "kernelspec": {
   "display_name": "Python 3",
   "language": "python",
   "name": "python3"
  },
  "language_info": {
   "codemirror_mode": {
    "name": "ipython",
    "version": 3
   },
   "file_extension": ".py",
   "mimetype": "text/x-python",
   "name": "python",
   "nbconvert_exporter": "python",
   "pygments_lexer": "ipython3",
   "version": "3.7.4"
  }
 },
 "nbformat": 4,
 "nbformat_minor": 4
}
