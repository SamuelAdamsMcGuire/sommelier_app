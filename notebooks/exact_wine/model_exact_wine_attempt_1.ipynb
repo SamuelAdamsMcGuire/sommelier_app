{
 "cells": [
  {
   "cell_type": "code",
   "execution_count": 1,
   "metadata": {},
   "outputs": [],
   "source": [
    "import pickle\n",
    "import spacy\n",
    "import pandas as pd\n",
    "import numpy as np\n",
    "from sklearn.naive_bayes import MultinomialNB, GaussianNB, BernoulliNB, CategoricalNB\n",
    "from sklearn.ensemble import RandomForestClassifier, RandomForestRegressor\n",
    "from sklearn.feature_extraction.text import CountVectorizer, TfidfTransformer\n",
    "from sklearn.model_selection import train_test_split, cross_val_score\n",
    "from sklearn.pipeline import Pipeline\n",
    "from sklearn.linear_model import LogisticRegression\n",
    "from sklearn import metrics"
   ]
  },
  {
   "cell_type": "code",
   "execution_count": 2,
   "metadata": {},
   "outputs": [],
   "source": [
    "nlp = spacy.load(\"en_core_web_sm\", disable=[\"parser\", \"textcat\", \"ner\"])"
   ]
  },
  {
   "cell_type": "code",
   "execution_count": 3,
   "metadata": {},
   "outputs": [],
   "source": [
    "df = pd.read_csv('dfs_variety/Merlot.csv', index_col = 0)"
   ]
  },
  {
   "cell_type": "code",
   "execution_count": 4,
   "metadata": {},
   "outputs": [
    {
     "data": {
      "text/plain": [
       "Index(['country', 'description', 'designation', 'points', 'price', 'province',\n",
       "       'region_1', 'region_2', 'taster_name', 'taster_twitter_handle', 'title',\n",
       "       'variety', 'winery', 'type', 'sparkling'],\n",
       "      dtype='object')"
      ]
     },
     "execution_count": 4,
     "metadata": {},
     "output_type": "execute_result"
    }
   ],
   "source": [
    "df.columns"
   ]
  },
  {
   "cell_type": "code",
   "execution_count": 5,
   "metadata": {
    "scrolled": true
   },
   "outputs": [
    {
     "data": {
      "text/html": [
       "<div>\n",
       "<style scoped>\n",
       "    .dataframe tbody tr th:only-of-type {\n",
       "        vertical-align: middle;\n",
       "    }\n",
       "\n",
       "    .dataframe tbody tr th {\n",
       "        vertical-align: top;\n",
       "    }\n",
       "\n",
       "    .dataframe thead th {\n",
       "        text-align: right;\n",
       "    }\n",
       "</style>\n",
       "<table border=\"1\" class=\"dataframe\">\n",
       "  <thead>\n",
       "    <tr style=\"text-align: right;\">\n",
       "      <th></th>\n",
       "      <th>country</th>\n",
       "      <th>description</th>\n",
       "      <th>designation</th>\n",
       "      <th>points</th>\n",
       "      <th>price</th>\n",
       "      <th>province</th>\n",
       "      <th>region_1</th>\n",
       "      <th>region_2</th>\n",
       "      <th>taster_name</th>\n",
       "      <th>taster_twitter_handle</th>\n",
       "      <th>title</th>\n",
       "      <th>variety</th>\n",
       "      <th>winery</th>\n",
       "      <th>type</th>\n",
       "      <th>sparkling</th>\n",
       "    </tr>\n",
       "  </thead>\n",
       "  <tbody>\n",
       "    <tr>\n",
       "      <th>23</th>\n",
       "      <td>US</td>\n",
       "      <td>This wine from the Geneseo district offers aro...</td>\n",
       "      <td>Signature Selection</td>\n",
       "      <td>87</td>\n",
       "      <td>22.0</td>\n",
       "      <td>California</td>\n",
       "      <td>Paso Robles</td>\n",
       "      <td>Central Coast</td>\n",
       "      <td>Matt Kettmann</td>\n",
       "      <td>@mattkettmann</td>\n",
       "      <td>Bianchi 2011 Signature Selection Merlot (Paso ...</td>\n",
       "      <td>Merlot</td>\n",
       "      <td>Bianchi</td>\n",
       "      <td>red</td>\n",
       "      <td>no</td>\n",
       "    </tr>\n",
       "    <tr>\n",
       "      <th>44</th>\n",
       "      <td>Chile</td>\n",
       "      <td>A berry aroma comes with cola and herb notes. ...</td>\n",
       "      <td>Merlot</td>\n",
       "      <td>86</td>\n",
       "      <td>9.0</td>\n",
       "      <td>Maule Valley</td>\n",
       "      <td>NaN</td>\n",
       "      <td>NaN</td>\n",
       "      <td>Michael Schachner</td>\n",
       "      <td>@wineschach</td>\n",
       "      <td>Sundance 2011 Merlot (Maule Valley)</td>\n",
       "      <td>Merlot</td>\n",
       "      <td>Sundance</td>\n",
       "      <td>red</td>\n",
       "      <td>no</td>\n",
       "    </tr>\n",
       "    <tr>\n",
       "      <th>87</th>\n",
       "      <td>US</td>\n",
       "      <td>Softened tannins surround a light-bodied, lean...</td>\n",
       "      <td>Blau Vineyards</td>\n",
       "      <td>86</td>\n",
       "      <td>55.0</td>\n",
       "      <td>California</td>\n",
       "      <td>Knights Valley</td>\n",
       "      <td>Sonoma</td>\n",
       "      <td>Virginie Boone</td>\n",
       "      <td>@vboone</td>\n",
       "      <td>Passaggio 2014 Blau Vineyards Merlot (Knights ...</td>\n",
       "      <td>Merlot</td>\n",
       "      <td>Passaggio</td>\n",
       "      <td>red</td>\n",
       "      <td>no</td>\n",
       "    </tr>\n",
       "    <tr>\n",
       "      <th>168</th>\n",
       "      <td>US</td>\n",
       "      <td>A fairly elegant expression of the variety, th...</td>\n",
       "      <td>Rector Creek Vineyard</td>\n",
       "      <td>91</td>\n",
       "      <td>95.0</td>\n",
       "      <td>California</td>\n",
       "      <td>Napa Valley</td>\n",
       "      <td>Napa</td>\n",
       "      <td>Virginie Boone</td>\n",
       "      <td>@vboone</td>\n",
       "      <td>Duckhorn 2012 Rector Creek Vineyard Merlot (Na...</td>\n",
       "      <td>Merlot</td>\n",
       "      <td>Duckhorn</td>\n",
       "      <td>red</td>\n",
       "      <td>no</td>\n",
       "    </tr>\n",
       "    <tr>\n",
       "      <th>188</th>\n",
       "      <td>Chile</td>\n",
       "      <td>Bisquertt usually does well with its value-pri...</td>\n",
       "      <td>Casa La Joya Reserve</td>\n",
       "      <td>88</td>\n",
       "      <td>11.0</td>\n",
       "      <td>Colchagua Valley</td>\n",
       "      <td>NaN</td>\n",
       "      <td>NaN</td>\n",
       "      <td>Michael Schachner</td>\n",
       "      <td>@wineschach</td>\n",
       "      <td>Viña Bisquertt 2007 Casa La Joya Reserve Merlo...</td>\n",
       "      <td>Merlot</td>\n",
       "      <td>Viña Bisquertt</td>\n",
       "      <td>red</td>\n",
       "      <td>no</td>\n",
       "    </tr>\n",
       "  </tbody>\n",
       "</table>\n",
       "</div>"
      ],
      "text/plain": [
       "    country                                        description  \\\n",
       "23       US  This wine from the Geneseo district offers aro...   \n",
       "44    Chile  A berry aroma comes with cola and herb notes. ...   \n",
       "87       US  Softened tannins surround a light-bodied, lean...   \n",
       "168      US  A fairly elegant expression of the variety, th...   \n",
       "188   Chile  Bisquertt usually does well with its value-pri...   \n",
       "\n",
       "               designation  points  price          province        region_1  \\\n",
       "23     Signature Selection      87   22.0        California     Paso Robles   \n",
       "44                  Merlot      86    9.0      Maule Valley             NaN   \n",
       "87          Blau Vineyards      86   55.0        California  Knights Valley   \n",
       "168  Rector Creek Vineyard      91   95.0        California     Napa Valley   \n",
       "188   Casa La Joya Reserve      88   11.0  Colchagua Valley             NaN   \n",
       "\n",
       "          region_2        taster_name taster_twitter_handle  \\\n",
       "23   Central Coast      Matt Kettmann         @mattkettmann   \n",
       "44             NaN  Michael Schachner           @wineschach   \n",
       "87          Sonoma     Virginie Boone               @vboone   \n",
       "168           Napa     Virginie Boone               @vboone   \n",
       "188            NaN  Michael Schachner           @wineschach   \n",
       "\n",
       "                                                 title variety  \\\n",
       "23   Bianchi 2011 Signature Selection Merlot (Paso ...  Merlot   \n",
       "44                 Sundance 2011 Merlot (Maule Valley)  Merlot   \n",
       "87   Passaggio 2014 Blau Vineyards Merlot (Knights ...  Merlot   \n",
       "168  Duckhorn 2012 Rector Creek Vineyard Merlot (Na...  Merlot   \n",
       "188  Viña Bisquertt 2007 Casa La Joya Reserve Merlo...  Merlot   \n",
       "\n",
       "             winery type sparkling  \n",
       "23          Bianchi  red        no  \n",
       "44         Sundance  red        no  \n",
       "87        Passaggio  red        no  \n",
       "168        Duckhorn  red        no  \n",
       "188  Viña Bisquertt  red        no  "
      ]
     },
     "execution_count": 5,
     "metadata": {},
     "output_type": "execute_result"
    }
   ],
   "source": [
    "df.head()"
   ]
  },
  {
   "cell_type": "code",
   "execution_count": 6,
   "metadata": {},
   "outputs": [],
   "source": [
    "def custom_tokenizer(text):\n",
    "    '''\n",
    "    used to filter out unwanted words, punctuation, and so on\n",
    "    '''\n",
    "    tokens = []\n",
    "    for t in nlp(text):\n",
    "        if not(len(t) < 2 or t.is_stop or t.like_num or \n",
    "               t.is_punct or not t.is_alpha):\n",
    "            tokens.append(t.lemma_)\n",
    "    return tokens "
   ]
  },
  {
   "cell_type": "code",
   "execution_count": 7,
   "metadata": {},
   "outputs": [],
   "source": [
    "corpus = df['description']"
   ]
  },
  {
   "cell_type": "code",
   "execution_count": 8,
   "metadata": {},
   "outputs": [
    {
     "data": {
      "text/plain": [
       "23        This wine from the Geneseo district offers aro...\n",
       "44        A berry aroma comes with cola and herb notes. ...\n",
       "87        Softened tannins surround a light-bodied, lean...\n",
       "168       A fairly elegant expression of the variety, th...\n",
       "188       Bisquertt usually does well with its value-pri...\n",
       "                                ...                        \n",
       "129840    The entry is oaky and the fruit light; it seem...\n",
       "129846    Simple but meaty, this 100% Merlot has substan...\n",
       "129847    Rich, soft and lush, if a little obvious, this...\n",
       "129857    Dusty tannins make for a soft texture in this ...\n",
       "129900    This wine offers a delightful bouquet of black...\n",
       "Name: description, Length: 3102, dtype: object"
      ]
     },
     "execution_count": 8,
     "metadata": {},
     "output_type": "execute_result"
    }
   ],
   "source": [
    "corpus"
   ]
  },
  {
   "cell_type": "code",
   "execution_count": 9,
   "metadata": {},
   "outputs": [],
   "source": [
    "y = df['title']"
   ]
  },
  {
   "cell_type": "code",
   "execution_count": 10,
   "metadata": {},
   "outputs": [
    {
     "data": {
      "text/plain": [
       "Twin Arches 2010 Merlot (California)                           2\n",
       "Ballentine 2014 Estate Grown Merlot (Napa Valley)              2\n",
       "Rexford 2009 Merlot (Santa Cruz Mountains)                     2\n",
       "Gnarly Head 2014 Merlot (California)                           2\n",
       "The Williamsburg Winery 2006 Adagio Merlot (Virginia)          2\n",
       "                                                              ..\n",
       "Three Rivers 2011 Merlot (Columbia Valley (WA))                1\n",
       "Abeja 2011 Merlot (Columbia Valley (WA))                       1\n",
       "Frog's Leap 2012 Merlot (Rutherford)                           1\n",
       "Terre de Vignerons 2016 Le Phare Merlot Merlot (Atlantique)    1\n",
       "Castle Rock 2006 Merlot (Columbia Valley (WA))                 1\n",
       "Name: title, Length: 2889, dtype: int64"
      ]
     },
     "execution_count": 10,
     "metadata": {},
     "output_type": "execute_result"
    }
   ],
   "source": [
    "y.value_counts()"
   ]
  },
  {
   "cell_type": "code",
   "execution_count": 11,
   "metadata": {},
   "outputs": [],
   "source": [
    "bow = CountVectorizer(tokenizer=custom_tokenizer, \n",
    "                      ngram_range=(1, 1), \n",
    "                      min_df=0.01, \n",
    "                      max_df=0.99)"
   ]
  },
  {
   "cell_type": "code",
   "execution_count": 12,
   "metadata": {},
   "outputs": [],
   "source": [
    "corpus_train, corpus_test, y_train, y_test = train_test_split(corpus, y, \n",
    "                                                              test_size=0.4, \n",
    "                                                              train_size=0.6)"
   ]
  },
  {
   "cell_type": "code",
   "execution_count": 13,
   "metadata": {},
   "outputs": [],
   "source": [
    "X_train = bow.fit_transform(corpus_train)"
   ]
  },
  {
   "cell_type": "code",
   "execution_count": 14,
   "metadata": {},
   "outputs": [
    {
     "data": {
      "text/plain": [
       "(1861, 364)"
      ]
     },
     "execution_count": 14,
     "metadata": {},
     "output_type": "execute_result"
    }
   ],
   "source": [
    "X_train.shape"
   ]
  },
  {
   "cell_type": "code",
   "execution_count": 15,
   "metadata": {},
   "outputs": [],
   "source": [
    "X_test = bow.transform(corpus_test)"
   ]
  },
  {
   "cell_type": "code",
   "execution_count": 16,
   "metadata": {},
   "outputs": [],
   "source": [
    "m_nb = Pipeline([\n",
    "    ('TfIdf', TfidfTransformer()),\n",
    "    ('NB', BernoulliNB())\n",
    "])"
   ]
  },
  {
   "cell_type": "code",
   "execution_count": 17,
   "metadata": {},
   "outputs": [
    {
     "data": {
      "text/plain": [
       "24899                    Pennywise 2010 Merlot (California)\n",
       "11697        Santa Alba 2013 Reserve Merlot (Curicó Valley)\n",
       "105359    Viña Casablanca 2014 Cefiro Reserva Merlot (Ma...\n",
       "79555     Mount Pleasant Winery NV Estates Merlot (America)\n",
       "24867                    Illustrious 2011 Merlot (Carneros)\n",
       "                                ...                        \n",
       "50196            Oak Grove 2008 Reserve Merlot (California)\n",
       "92058             HRM Rex Goliath NV Merlot (Central Coast)\n",
       "108873    Milbrandt 2012 The Estates Merlot (Wahluke Slope)\n",
       "22462     Carmel 2009 Sha'al Single Vineyard Merlot (Gal...\n",
       "40203     Carmel 2006 Appellation Kosher Merlot (Upper G...\n",
       "Name: title, Length: 1861, dtype: object"
      ]
     },
     "execution_count": 17,
     "metadata": {},
     "output_type": "execute_result"
    }
   ],
   "source": [
    "y_train"
   ]
  },
  {
   "cell_type": "code",
   "execution_count": 18,
   "metadata": {},
   "outputs": [
    {
     "data": {
      "text/plain": [
       "Pipeline(memory=None,\n",
       "         steps=[('TfIdf',\n",
       "                 TfidfTransformer(norm='l2', smooth_idf=True,\n",
       "                                  sublinear_tf=False, use_idf=True)),\n",
       "                ('NB',\n",
       "                 BernoulliNB(alpha=1.0, binarize=0.0, class_prior=None,\n",
       "                             fit_prior=True))],\n",
       "         verbose=False)"
      ]
     },
     "execution_count": 18,
     "metadata": {},
     "output_type": "execute_result"
    }
   ],
   "source": [
    "m_nb.fit(X_train, y_train)"
   ]
  },
  {
   "cell_type": "code",
   "execution_count": 19,
   "metadata": {},
   "outputs": [
    {
     "data": {
      "text/plain": [
       "array([\"Frog's Leap 2010 Merlot (Rutherford)\",\n",
       "       'Folie à Deux 2008 Merlot (Napa Valley)',\n",
       "       \"Gualdo del Re 2007 I'Rennero Merlot (Val di Cornia Suvereto)\",\n",
       "       ..., 'Bandit NV Merlot (California)',\n",
       "       'Hightower 2013 Merlot (Red Mountain)',\n",
       "       'Midnight 2010 Estate Merlot (Paso Robles)'], dtype='<U100')"
      ]
     },
     "execution_count": 19,
     "metadata": {},
     "output_type": "execute_result"
    }
   ],
   "source": [
    "m_nb.predict(X_test)"
   ]
  },
  {
   "cell_type": "code",
   "execution_count": 20,
   "metadata": {},
   "outputs": [
    {
     "data": {
      "text/plain": [
       "0.0"
      ]
     },
     "execution_count": 20,
     "metadata": {},
     "output_type": "execute_result"
    }
   ],
   "source": [
    "metrics.accuracy_score(y_test, m_nb.predict(X_test))"
   ]
  },
  {
   "cell_type": "code",
   "execution_count": 21,
   "metadata": {},
   "outputs": [
    {
     "data": {
      "text/plain": [
       "array(['Bandit NV Merlot (California)'], dtype='<U100')"
      ]
     },
     "execution_count": 21,
     "metadata": {},
     "output_type": "execute_result"
    }
   ],
   "source": [
    "m_nb.predict(bow.transform(['dry savory bitter smooth balanced polished earthy earth soil minerality graphite carmel toast spice oak oaky smokey toasty smoke cedar tea']))"
   ]
  },
  {
   "cell_type": "code",
   "execution_count": 22,
   "metadata": {},
   "outputs": [
    {
     "data": {
      "text/plain": [
       "0.20850200578748665"
      ]
     },
     "execution_count": 22,
     "metadata": {},
     "output_type": "execute_result"
    }
   ],
   "source": [
    "m_nb.predict_proba(bow.transform(['cherry flavor nice oak accent'])).max()"
   ]
  },
  {
   "cell_type": "code",
   "execution_count": 23,
   "metadata": {},
   "outputs": [],
   "source": [
    "query = ['dry savory bitter smooth balanced polished earthy earth soil minerality graphite carmel toast spice oak oaky smokey toasty smoke cedar tea']"
   ]
  },
  {
   "cell_type": "code",
   "execution_count": 24,
   "metadata": {},
   "outputs": [],
   "source": [
    "df_pred = pd.DataFrame(m_nb.predict_proba(bow.transform(query)).T.round(4), index=m_nb.classes_ ,columns=['probability'])"
   ]
  },
  {
   "cell_type": "code",
   "execution_count": 25,
   "metadata": {},
   "outputs": [
    {
     "data": {
      "text/html": [
       "<div>\n",
       "<style scoped>\n",
       "    .dataframe tbody tr th:only-of-type {\n",
       "        vertical-align: middle;\n",
       "    }\n",
       "\n",
       "    .dataframe tbody tr th {\n",
       "        vertical-align: top;\n",
       "    }\n",
       "\n",
       "    .dataframe thead th {\n",
       "        text-align: right;\n",
       "    }\n",
       "</style>\n",
       "<table border=\"1\" class=\"dataframe\">\n",
       "  <thead>\n",
       "    <tr style=\"text-align: right;\">\n",
       "      <th></th>\n",
       "      <th>probability</th>\n",
       "    </tr>\n",
       "  </thead>\n",
       "  <tbody>\n",
       "    <tr>\n",
       "      <th>Bandit NV Merlot (California)</th>\n",
       "      <td>0.2609</td>\n",
       "    </tr>\n",
       "    <tr>\n",
       "      <th>Kenwood 2009 Merlot (Sonoma County)</th>\n",
       "      <td>0.2090</td>\n",
       "    </tr>\n",
       "    <tr>\n",
       "      <th>Hightower 2013 Merlot (Red Mountain)</th>\n",
       "      <td>0.2090</td>\n",
       "    </tr>\n",
       "    <tr>\n",
       "      <th>Gualdo del Re 2007 I'Rennero Merlot (Val di Cornia Suvereto)</th>\n",
       "      <td>0.0697</td>\n",
       "    </tr>\n",
       "    <tr>\n",
       "      <th>Happy Camper 2010 Merlot (California)</th>\n",
       "      <td>0.0697</td>\n",
       "    </tr>\n",
       "  </tbody>\n",
       "</table>\n",
       "</div>"
      ],
      "text/plain": [
       "                                                    probability\n",
       "Bandit NV Merlot (California)                            0.2609\n",
       "Kenwood 2009 Merlot (Sonoma County)                      0.2090\n",
       "Hightower 2013 Merlot (Red Mountain)                     0.2090\n",
       "Gualdo del Re 2007 I'Rennero Merlot (Val di Cor...       0.0697\n",
       "Happy Camper 2010 Merlot (California)                    0.0697"
      ]
     },
     "execution_count": 25,
     "metadata": {},
     "output_type": "execute_result"
    }
   ],
   "source": [
    "df_pred.sort_values(by='probability', ascending=False).head(5)"
   ]
  },
  {
   "cell_type": "code",
   "execution_count": null,
   "metadata": {},
   "outputs": [],
   "source": []
  },
  {
   "cell_type": "code",
   "execution_count": null,
   "metadata": {},
   "outputs": [],
   "source": []
  },
  {
   "cell_type": "code",
   "execution_count": 26,
   "metadata": {},
   "outputs": [],
   "source": [
    "m_nbm = Pipeline([\n",
    "    ('TfIdf', TfidfTransformer()),\n",
    "    ('NB', MultinomialNB())\n",
    "])"
   ]
  },
  {
   "cell_type": "code",
   "execution_count": 27,
   "metadata": {},
   "outputs": [
    {
     "data": {
      "text/plain": [
       "Pipeline(memory=None,\n",
       "         steps=[('TfIdf',\n",
       "                 TfidfTransformer(norm='l2', smooth_idf=True,\n",
       "                                  sublinear_tf=False, use_idf=True)),\n",
       "                ('NB',\n",
       "                 MultinomialNB(alpha=1.0, class_prior=None, fit_prior=True))],\n",
       "         verbose=False)"
      ]
     },
     "execution_count": 27,
     "metadata": {},
     "output_type": "execute_result"
    }
   ],
   "source": [
    "m_nbm.fit(X_train, y_train)"
   ]
  },
  {
   "cell_type": "code",
   "execution_count": 28,
   "metadata": {},
   "outputs": [
    {
     "data": {
      "text/plain": [
       "array([\"Frog's Leap 2010 Merlot (Rutherford)\",\n",
       "       'Materra Cunat Family Vineyards 2010 Estate Grown Merlot (Oak Knoll District)',\n",
       "       'Happy Camper 2010 Merlot (California)', ...,\n",
       "       'Folie à Deux 2008 Merlot (Napa Valley)',\n",
       "       'Happy Camper 2010 Merlot (California)',\n",
       "       'Viña Casablanca 2014 Nimbus Single Vineyard Merlot (Casablanca Valley)'],\n",
       "      dtype='<U100')"
      ]
     },
     "execution_count": 28,
     "metadata": {},
     "output_type": "execute_result"
    }
   ],
   "source": [
    "m_nbm.predict(X_test)"
   ]
  },
  {
   "cell_type": "code",
   "execution_count": 29,
   "metadata": {},
   "outputs": [
    {
     "data": {
      "text/plain": [
       "0.0008058017727639"
      ]
     },
     "execution_count": 29,
     "metadata": {},
     "output_type": "execute_result"
    }
   ],
   "source": [
    "metrics.accuracy_score(y_test, m_nbm.predict(X_test))"
   ]
  },
  {
   "cell_type": "code",
   "execution_count": 30,
   "metadata": {},
   "outputs": [
    {
     "data": {
      "text/plain": [
       "array(['Dieu Donne 2000 Merlot (Franschhoek)'], dtype='<U100')"
      ]
     },
     "execution_count": 30,
     "metadata": {},
     "output_type": "execute_result"
    }
   ],
   "source": [
    "m_nbm.predict(bow.transform(query))"
   ]
  },
  {
   "cell_type": "code",
   "execution_count": 31,
   "metadata": {},
   "outputs": [
    {
     "data": {
      "text/plain": [
       "0.0014049587048620045"
      ]
     },
     "execution_count": 31,
     "metadata": {},
     "output_type": "execute_result"
    }
   ],
   "source": [
    "m_nbm.predict_proba(bow.transform(query)).max()"
   ]
  },
  {
   "cell_type": "code",
   "execution_count": 34,
   "metadata": {},
   "outputs": [],
   "source": [
    "df_pred = pd.DataFrame(m_nbm.predict_proba(bow.transform(query)).T.round(4), index=m_nbm.classes_ ,columns=['probability'])"
   ]
  },
  {
   "cell_type": "code",
   "execution_count": 35,
   "metadata": {},
   "outputs": [
    {
     "data": {
      "text/html": [
       "<div>\n",
       "<style scoped>\n",
       "    .dataframe tbody tr th:only-of-type {\n",
       "        vertical-align: middle;\n",
       "    }\n",
       "\n",
       "    .dataframe tbody tr th {\n",
       "        vertical-align: top;\n",
       "    }\n",
       "\n",
       "    .dataframe thead th {\n",
       "        text-align: right;\n",
       "    }\n",
       "</style>\n",
       "<table border=\"1\" class=\"dataframe\">\n",
       "  <thead>\n",
       "    <tr style=\"text-align: right;\">\n",
       "      <th></th>\n",
       "      <th>probability</th>\n",
       "    </tr>\n",
       "  </thead>\n",
       "  <tbody>\n",
       "    <tr>\n",
       "      <th>Kenwood 2009 Merlot (Sonoma County)</th>\n",
       "      <td>0.0014</td>\n",
       "    </tr>\n",
       "    <tr>\n",
       "      <th>Dieu Donne 2000 Merlot (Franschhoek)</th>\n",
       "      <td>0.0014</td>\n",
       "    </tr>\n",
       "    <tr>\n",
       "      <th>Spellbound 2010 Merlot (California)</th>\n",
       "      <td>0.0014</td>\n",
       "    </tr>\n",
       "    <tr>\n",
       "      <th>Decoy 2014 Merlot (Sonoma County)</th>\n",
       "      <td>0.0013</td>\n",
       "    </tr>\n",
       "    <tr>\n",
       "      <th>Rancho Sisquoc 2013 Merlot (Santa Barbara County)</th>\n",
       "      <td>0.0013</td>\n",
       "    </tr>\n",
       "  </tbody>\n",
       "</table>\n",
       "</div>"
      ],
      "text/plain": [
       "                                                   probability\n",
       "Kenwood 2009 Merlot (Sonoma County)                     0.0014\n",
       "Dieu Donne 2000 Merlot (Franschhoek)                    0.0014\n",
       "Spellbound 2010 Merlot (California)                     0.0014\n",
       "Decoy 2014 Merlot (Sonoma County)                       0.0013\n",
       "Rancho Sisquoc 2013 Merlot (Santa Barbara County)       0.0013"
      ]
     },
     "execution_count": 35,
     "metadata": {},
     "output_type": "execute_result"
    }
   ],
   "source": [
    "df_pred.sort_values(by='probability', ascending=False).head(5)"
   ]
  },
  {
   "cell_type": "code",
   "execution_count": null,
   "metadata": {},
   "outputs": [],
   "source": []
  },
  {
   "cell_type": "code",
   "execution_count": null,
   "metadata": {},
   "outputs": [],
   "source": []
  },
  {
   "cell_type": "code",
   "execution_count": 36,
   "metadata": {},
   "outputs": [],
   "source": [
    "m = Pipeline([\n",
    "    ('TfIdf', TfidfTransformer()),\n",
    "    ('LogReg', LogisticRegression(class_weight='balanced'))\n",
    "    ])"
   ]
  },
  {
   "cell_type": "code",
   "execution_count": 37,
   "metadata": {},
   "outputs": [
    {
     "data": {
      "text/plain": [
       "Pipeline(memory=None,\n",
       "         steps=[('TfIdf',\n",
       "                 TfidfTransformer(norm='l2', smooth_idf=True,\n",
       "                                  sublinear_tf=False, use_idf=True)),\n",
       "                ('LogReg',\n",
       "                 LogisticRegression(C=1.0, class_weight='balanced', dual=False,\n",
       "                                    fit_intercept=True, intercept_scaling=1,\n",
       "                                    l1_ratio=None, max_iter=100,\n",
       "                                    multi_class='auto', n_jobs=None,\n",
       "                                    penalty='l2', random_state=None,\n",
       "                                    solver='lbfgs', tol=0.0001, verbose=0,\n",
       "                                    warm_start=False))],\n",
       "         verbose=False)"
      ]
     },
     "execution_count": 37,
     "metadata": {},
     "output_type": "execute_result"
    }
   ],
   "source": [
    "m.fit(X_train, y_train)"
   ]
  },
  {
   "cell_type": "code",
   "execution_count": 38,
   "metadata": {},
   "outputs": [
    {
     "data": {
      "text/plain": [
       "array(['Nickel & Nickel 2010 Suscol Ranch Merlot (Napa Valley)',\n",
       "       'Bogle 2009 Merlot (California)', 'Hahn 2006 Merlot (Monterey)',\n",
       "       ..., 'Robert Mondavi 2007 Merlot (Napa Valley)',\n",
       "       'Woodbridge by Robert Mondavi 2010 Merlot (California)',\n",
       "       'Bulgariana 2012 Merlot (Thracian Valley)'], dtype=object)"
      ]
     },
     "execution_count": 38,
     "metadata": {},
     "output_type": "execute_result"
    }
   ],
   "source": [
    "m.predict(X_test)"
   ]
  },
  {
   "cell_type": "code",
   "execution_count": 39,
   "metadata": {},
   "outputs": [
    {
     "data": {
      "text/plain": [
       "0.08460918614020951"
      ]
     },
     "execution_count": 39,
     "metadata": {},
     "output_type": "execute_result"
    }
   ],
   "source": [
    "metrics.accuracy_score(y_test, m.predict(X_test))"
   ]
  },
  {
   "cell_type": "code",
   "execution_count": 40,
   "metadata": {},
   "outputs": [],
   "source": [
    "df_pred = pd.DataFrame(m.predict_proba(bow.transform(query)).T.round(4), index=m.classes_ ,columns=['probability'])"
   ]
  },
  {
   "cell_type": "code",
   "execution_count": 41,
   "metadata": {},
   "outputs": [
    {
     "data": {
      "text/html": [
       "<div>\n",
       "<style scoped>\n",
       "    .dataframe tbody tr th:only-of-type {\n",
       "        vertical-align: middle;\n",
       "    }\n",
       "\n",
       "    .dataframe tbody tr th {\n",
       "        vertical-align: top;\n",
       "    }\n",
       "\n",
       "    .dataframe thead th {\n",
       "        text-align: right;\n",
       "    }\n",
       "</style>\n",
       "<table border=\"1\" class=\"dataframe\">\n",
       "  <thead>\n",
       "    <tr style=\"text-align: right;\">\n",
       "      <th></th>\n",
       "      <th>probability</th>\n",
       "    </tr>\n",
       "  </thead>\n",
       "  <tbody>\n",
       "    <tr>\n",
       "      <th>Clos du Val 2012 Merlot (Napa Valley)</th>\n",
       "      <td>0.0007</td>\n",
       "    </tr>\n",
       "    <tr>\n",
       "      <th>Dieu Donne 2000 Merlot (Franschhoek)</th>\n",
       "      <td>0.0007</td>\n",
       "    </tr>\n",
       "    <tr>\n",
       "      <th>Montpezat 2005 Les Enclos Prestige Merlot (Vin de Pays d'Oc)</th>\n",
       "      <td>0.0007</td>\n",
       "    </tr>\n",
       "    <tr>\n",
       "      <th>Cycles Gladiator 2014 Merlot (Central Coast)</th>\n",
       "      <td>0.0007</td>\n",
       "    </tr>\n",
       "    <tr>\n",
       "      <th>WildHaven 2010 Reserve Merlot (Washington)</th>\n",
       "      <td>0.0007</td>\n",
       "    </tr>\n",
       "  </tbody>\n",
       "</table>\n",
       "</div>"
      ],
      "text/plain": [
       "                                                    probability\n",
       "Clos du Val 2012 Merlot (Napa Valley)                    0.0007\n",
       "Dieu Donne 2000 Merlot (Franschhoek)                     0.0007\n",
       "Montpezat 2005 Les Enclos Prestige Merlot (Vin ...       0.0007\n",
       "Cycles Gladiator 2014 Merlot (Central Coast)             0.0007\n",
       "WildHaven 2010 Reserve Merlot (Washington)               0.0007"
      ]
     },
     "execution_count": 41,
     "metadata": {},
     "output_type": "execute_result"
    }
   ],
   "source": [
    "df_pred.sort_values(by='probability', ascending=False).head(5)"
   ]
  }
 ],
 "metadata": {
  "kernelspec": {
   "display_name": "Python 3",
   "language": "python",
   "name": "python3"
  },
  "language_info": {
   "codemirror_mode": {
    "name": "ipython",
    "version": 3
   },
   "file_extension": ".py",
   "mimetype": "text/x-python",
   "name": "python",
   "nbconvert_exporter": "python",
   "pygments_lexer": "ipython3",
   "version": "3.7.4"
  }
 },
 "nbformat": 4,
 "nbformat_minor": 4
}
