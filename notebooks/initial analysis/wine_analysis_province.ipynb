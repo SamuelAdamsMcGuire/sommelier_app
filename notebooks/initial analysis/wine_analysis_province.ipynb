{
 "cells": [
  {
   "cell_type": "code",
   "execution_count": 1,
   "metadata": {},
   "outputs": [],
   "source": [
    "import pandas as pd\n",
    "import numpy as np"
   ]
  },
  {
   "cell_type": "code",
   "execution_count": 5,
   "metadata": {},
   "outputs": [],
   "source": [
    "df = pd.read_csv('winemag-data-130k-v2.csv')"
   ]
  },
  {
   "cell_type": "code",
   "execution_count": 7,
   "metadata": {},
   "outputs": [
    {
     "data": {
      "text/plain": [
       "Index(['Unnamed: 0', 'country', 'description', 'designation', 'points',\n",
       "       'price', 'province', 'region_1', 'region_2', 'taster_name',\n",
       "       'taster_twitter_handle', 'title', 'variety', 'winery'],\n",
       "      dtype='object')"
      ]
     },
     "execution_count": 7,
     "metadata": {},
     "output_type": "execute_result"
    }
   ],
   "source": [
    "df.columns"
   ]
  },
  {
   "cell_type": "code",
   "execution_count": 12,
   "metadata": {},
   "outputs": [],
   "source": [
    "df.drop(['Unnamed: 0'], axis=1, inplace=True)\n",
    "#df.drop(['B', 'C'], axis=1)"
   ]
  },
  {
   "cell_type": "code",
   "execution_count": 14,
   "metadata": {},
   "outputs": [
    {
     "data": {
      "text/plain": [
       "Index(['country', 'description', 'designation', 'points', 'price', 'province',\n",
       "       'region_1', 'region_2', 'taster_name', 'taster_twitter_handle', 'title',\n",
       "       'variety', 'winery'],\n",
       "      dtype='object')"
      ]
     },
     "execution_count": 14,
     "metadata": {},
     "output_type": "execute_result"
    }
   ],
   "source": [
    "df.columns"
   ]
  },
  {
   "cell_type": "code",
   "execution_count": 16,
   "metadata": {},
   "outputs": [
    {
     "data": {
      "text/html": [
       "<div>\n",
       "<style scoped>\n",
       "    .dataframe tbody tr th:only-of-type {\n",
       "        vertical-align: middle;\n",
       "    }\n",
       "\n",
       "    .dataframe tbody tr th {\n",
       "        vertical-align: top;\n",
       "    }\n",
       "\n",
       "    .dataframe thead th {\n",
       "        text-align: right;\n",
       "    }\n",
       "</style>\n",
       "<table border=\"1\" class=\"dataframe\">\n",
       "  <thead>\n",
       "    <tr style=\"text-align: right;\">\n",
       "      <th></th>\n",
       "      <th>country</th>\n",
       "      <th>description</th>\n",
       "      <th>designation</th>\n",
       "      <th>points</th>\n",
       "      <th>price</th>\n",
       "      <th>province</th>\n",
       "      <th>region_1</th>\n",
       "      <th>region_2</th>\n",
       "      <th>taster_name</th>\n",
       "      <th>taster_twitter_handle</th>\n",
       "      <th>title</th>\n",
       "      <th>variety</th>\n",
       "      <th>winery</th>\n",
       "    </tr>\n",
       "  </thead>\n",
       "  <tbody>\n",
       "    <tr>\n",
       "      <th>0</th>\n",
       "      <td>Italy</td>\n",
       "      <td>Aromas include tropical fruit, broom, brimston...</td>\n",
       "      <td>Vulkà Bianco</td>\n",
       "      <td>87</td>\n",
       "      <td>NaN</td>\n",
       "      <td>Sicily &amp; Sardinia</td>\n",
       "      <td>Etna</td>\n",
       "      <td>NaN</td>\n",
       "      <td>Kerin O’Keefe</td>\n",
       "      <td>@kerinokeefe</td>\n",
       "      <td>Nicosia 2013 Vulkà Bianco  (Etna)</td>\n",
       "      <td>White Blend</td>\n",
       "      <td>Nicosia</td>\n",
       "    </tr>\n",
       "    <tr>\n",
       "      <th>1</th>\n",
       "      <td>Portugal</td>\n",
       "      <td>This is ripe and fruity, a wine that is smooth...</td>\n",
       "      <td>Avidagos</td>\n",
       "      <td>87</td>\n",
       "      <td>15.0</td>\n",
       "      <td>Douro</td>\n",
       "      <td>NaN</td>\n",
       "      <td>NaN</td>\n",
       "      <td>Roger Voss</td>\n",
       "      <td>@vossroger</td>\n",
       "      <td>Quinta dos Avidagos 2011 Avidagos Red (Douro)</td>\n",
       "      <td>Portuguese Red</td>\n",
       "      <td>Quinta dos Avidagos</td>\n",
       "    </tr>\n",
       "    <tr>\n",
       "      <th>2</th>\n",
       "      <td>US</td>\n",
       "      <td>Tart and snappy, the flavors of lime flesh and...</td>\n",
       "      <td>NaN</td>\n",
       "      <td>87</td>\n",
       "      <td>14.0</td>\n",
       "      <td>Oregon</td>\n",
       "      <td>Willamette Valley</td>\n",
       "      <td>Willamette Valley</td>\n",
       "      <td>Paul Gregutt</td>\n",
       "      <td>@paulgwine</td>\n",
       "      <td>Rainstorm 2013 Pinot Gris (Willamette Valley)</td>\n",
       "      <td>Pinot Gris</td>\n",
       "      <td>Rainstorm</td>\n",
       "    </tr>\n",
       "    <tr>\n",
       "      <th>3</th>\n",
       "      <td>US</td>\n",
       "      <td>Pineapple rind, lemon pith and orange blossom ...</td>\n",
       "      <td>Reserve Late Harvest</td>\n",
       "      <td>87</td>\n",
       "      <td>13.0</td>\n",
       "      <td>Michigan</td>\n",
       "      <td>Lake Michigan Shore</td>\n",
       "      <td>NaN</td>\n",
       "      <td>Alexander Peartree</td>\n",
       "      <td>NaN</td>\n",
       "      <td>St. Julian 2013 Reserve Late Harvest Riesling ...</td>\n",
       "      <td>Riesling</td>\n",
       "      <td>St. Julian</td>\n",
       "    </tr>\n",
       "    <tr>\n",
       "      <th>4</th>\n",
       "      <td>US</td>\n",
       "      <td>Much like the regular bottling from 2012, this...</td>\n",
       "      <td>Vintner's Reserve Wild Child Block</td>\n",
       "      <td>87</td>\n",
       "      <td>65.0</td>\n",
       "      <td>Oregon</td>\n",
       "      <td>Willamette Valley</td>\n",
       "      <td>Willamette Valley</td>\n",
       "      <td>Paul Gregutt</td>\n",
       "      <td>@paulgwine</td>\n",
       "      <td>Sweet Cheeks 2012 Vintner's Reserve Wild Child...</td>\n",
       "      <td>Pinot Noir</td>\n",
       "      <td>Sweet Cheeks</td>\n",
       "    </tr>\n",
       "  </tbody>\n",
       "</table>\n",
       "</div>"
      ],
      "text/plain": [
       "    country                                        description  \\\n",
       "0     Italy  Aromas include tropical fruit, broom, brimston...   \n",
       "1  Portugal  This is ripe and fruity, a wine that is smooth...   \n",
       "2        US  Tart and snappy, the flavors of lime flesh and...   \n",
       "3        US  Pineapple rind, lemon pith and orange blossom ...   \n",
       "4        US  Much like the regular bottling from 2012, this...   \n",
       "\n",
       "                          designation  points  price           province  \\\n",
       "0                        Vulkà Bianco      87    NaN  Sicily & Sardinia   \n",
       "1                            Avidagos      87   15.0              Douro   \n",
       "2                                 NaN      87   14.0             Oregon   \n",
       "3                Reserve Late Harvest      87   13.0           Michigan   \n",
       "4  Vintner's Reserve Wild Child Block      87   65.0             Oregon   \n",
       "\n",
       "              region_1           region_2         taster_name  \\\n",
       "0                 Etna                NaN       Kerin O’Keefe   \n",
       "1                  NaN                NaN          Roger Voss   \n",
       "2    Willamette Valley  Willamette Valley        Paul Gregutt   \n",
       "3  Lake Michigan Shore                NaN  Alexander Peartree   \n",
       "4    Willamette Valley  Willamette Valley        Paul Gregutt   \n",
       "\n",
       "  taster_twitter_handle                                              title  \\\n",
       "0          @kerinokeefe                  Nicosia 2013 Vulkà Bianco  (Etna)   \n",
       "1            @vossroger      Quinta dos Avidagos 2011 Avidagos Red (Douro)   \n",
       "2           @paulgwine       Rainstorm 2013 Pinot Gris (Willamette Valley)   \n",
       "3                   NaN  St. Julian 2013 Reserve Late Harvest Riesling ...   \n",
       "4           @paulgwine   Sweet Cheeks 2012 Vintner's Reserve Wild Child...   \n",
       "\n",
       "          variety               winery  \n",
       "0     White Blend              Nicosia  \n",
       "1  Portuguese Red  Quinta dos Avidagos  \n",
       "2      Pinot Gris            Rainstorm  \n",
       "3        Riesling           St. Julian  \n",
       "4      Pinot Noir         Sweet Cheeks  "
      ]
     },
     "execution_count": 16,
     "metadata": {},
     "output_type": "execute_result"
    }
   ],
   "source": [
    "df.head()"
   ]
  },
  {
   "cell_type": "code",
   "execution_count": 30,
   "metadata": {},
   "outputs": [
    {
     "data": {
      "text/plain": [
       "425"
      ]
     },
     "execution_count": 30,
     "metadata": {},
     "output_type": "execute_result"
    }
   ],
   "source": [
    "df['province'].nunique()"
   ]
  },
  {
   "cell_type": "code",
   "execution_count": 26,
   "metadata": {},
   "outputs": [
    {
     "data": {
      "text/plain": [
       "array(['Sicily & Sardinia', 'Douro', 'Oregon', 'Michigan',\n",
       "       'Northern Spain', 'Alsace', 'Rheinhessen', 'California', 'Mosel',\n",
       "       'Other', 'Mendoza Province', 'Virginia', 'Beaujolais',\n",
       "       'Colchagua Valley', 'Southern Italy', 'Maule Valley', 'Bordeaux',\n",
       "       'Maipo Valley', 'Washington', 'Central Italy', 'Champagne',\n",
       "       'Burgundy', 'South Australia', 'Tejo', 'Rapel Valley', 'Galicia',\n",
       "       'France Other', 'Tuscany', 'Burgenland', 'New York',\n",
       "       'Leyda Valley', 'Piedmont', 'Stellenbosch',\n",
       "       'Simonsberg-Stellenbosch', 'Walker Bay', 'Alentejano',\n",
       "       'Central Spain', 'Southwest France', 'Aconcagua Valley',\n",
       "       'Loncomilla Valley', 'Marlborough', 'Northeastern Italy',\n",
       "       'Casablanca Valley', 'Veneto', 'Western Cape', 'Judean Hills',\n",
       "       'Alentejo', 'Coastal Region', 'Rhône Valley', 'Galilee',\n",
       "       'Beira Atlantico', 'Tokaj', 'Leithaberg', 'Santorini', 'Kremstal',\n",
       "       'Catalonia', 'Recas', \"Hawke's Bay\", 'Curicó Valley',\n",
       "       'Limarí Valley', 'Colchagua Costa', 'Languedoc-Roussillon',\n",
       "       'Provence', 'Victoria', 'Rheingau', 'Tokaji', 'Naoussa',\n",
       "       'Valle de Guadalupe', 'Central Valley', 'Lontué Valley',\n",
       "       'Italy Other', 'Weinviertel', 'Thermenregion', 'Niederösterreich',\n",
       "       'Wagram', 'Loire Valley', 'Lombardy', 'Ontario',\n",
       "       'Österreichischer Sekt', 'Kamptal', 'Steiermark', 'Südsteiermark',\n",
       "       'Crete', 'Vinho Verde', 'Idaho', 'Western Australia', 'Levante',\n",
       "       'Martinborough', 'Central Otago', 'Lisboa', 'Texas',\n",
       "       'Península de Setúbal', 'Australia Other', 'Tasmania', 'Franken',\n",
       "       'Ahr', 'Nahe', nan, 'Dealu Mare', 'Port', 'Darling', 'Chile',\n",
       "       'Südoststeiermark', 'Corinth', 'Halkidiki', 'Thrace', 'Pfalz',\n",
       "       'Robertson', 'Dan', 'Northwestern Italy', 'Andalucia',\n",
       "       'Awatere Valley', 'Wiener Gemischter Satz', 'Wachau',\n",
       "       'Pennsylvania', 'Swartland', 'Dão', 'Wagram-Donauland',\n",
       "       'Rio Claro', 'Villány', 'Cachapoal Valley', 'Jidvei', 'America',\n",
       "       'Traisental', 'Bairrada', 'Negev Hills', 'Ribatejano', 'Duriense',\n",
       "       'New Jersey', 'Beiras', 'Spanish Islands', 'Upper Galilee',\n",
       "       'Vinho Espumante', 'Epanomi', 'Nemea', 'Peloponnese',\n",
       "       'Aconcagua Costa', 'Moravia', 'Slovenia', 'Terras do Dão',\n",
       "       'Beira Interior', 'Panciu', 'Bío Bío Valley', 'Romania',\n",
       "       'Portuguese Table Wine', 'Minho', 'Missouri', 'New Mexico',\n",
       "       'Nevada', 'Bucelas', 'Peumo', 'San Antonio', 'Carnuntum',\n",
       "       'Estremadura', 'Canterbury', 'Spain Other', 'Drama', 'Ella Valley',\n",
       "       'Moselle Luxembourgeoise', 'Württemberg', 'Baden', 'Pangeon',\n",
       "       'Elqui Valley', 'Wairau Valley', 'Istria', 'Peljesac', 'Kakheti',\n",
       "       'Canelones', 'England', 'Marchigue', 'Paarl', 'Durbanville',\n",
       "       'Weinland Österreich', 'Mantinia', 'Chalkidiki', 'Lebanon',\n",
       "       'Setubal', 'Mosel-Saar-Ruwer', 'Colorado', 'Pocerina',\n",
       "       'British Columbia', 'Puente Alto', 'Kumeu', 'Trás-os-Montes',\n",
       "       'Shomron', 'Rapsani', 'Vienna', 'New South Wales', 'Nelson',\n",
       "       'Waipara Valley', 'Constantia', 'Arizona', 'Pinto Bandeira',\n",
       "       'Primorska', 'Moldova', 'Uruguay', 'Zenata', 'South Africa',\n",
       "       'Massachusetts', 'Ohio', 'Ica', 'San Vicente', 'Nashik',\n",
       "       'Franschhoek', 'South Island', 'Atlantida', 'Thracian Valley',\n",
       "       'Tarnave', 'Vipavska Dolina', 'Bekaa Valley', 'Elgin',\n",
       "       'Itata Valley', 'Table wine', 'Samson', 'Madeira', 'Cyprus',\n",
       "       'Pageon', 'Vinho Espumante de Qualidade', 'Wellington',\n",
       "       'Danube River Plains', 'Gisborne', 'Obidos', 'Wairarapa',\n",
       "       'Armenia', 'Santa Cruz', 'Korčula', 'Viile Timisului', 'Illinois',\n",
       "       'Aegean', 'Simonsberg-Paarl', 'Juanico', 'Black Sea Coastal',\n",
       "       'Santa Catarina', 'Overberg', 'Atalanti Valley', 'Sebes',\n",
       "       'Moscatel de Setúbal', 'Macedonia', 'Ribatejo', 'Germany',\n",
       "       'Palmela', 'Galil', 'Kras', 'Croatia', 'Waipara', 'Olifants River',\n",
       "       'Montevideo', 'Campanha', 'Israel', 'Neusiedlersee', 'Hungary',\n",
       "       'Lolol Valley', 'Cauquenes Valley', 'Groenekloof', 'Alenquer',\n",
       "       'Goriska Brda', 'Murfatlar', 'Moscatel do Douro',\n",
       "       'Washington-Oregon', 'New Zealand', 'Serra Gaúcha', 'San Jose',\n",
       "       'Vale dos Vinhedos', 'Mittelburgenland', 'Lutzville Valley',\n",
       "       'North Carolina', 'Apalta', 'Malleco', 'Guerrouane', 'Valais',\n",
       "       'Choapa Valley', 'Georgia', 'Ankara', 'Samos', 'Mittelrhein',\n",
       "       'Eisenberg', 'Sagrada Familia', 'Austria', 'Mostar', 'Iowa',\n",
       "       'Tulbagh', 'Cederberg', 'Hemel en Aarde', 'Ceres Plateau',\n",
       "       'Bot River', 'Patras', 'Korinthia', 'Greece', 'San Clemente',\n",
       "       'Podunavlje', 'Florina', 'Buin', 'Haut-Judeé', 'Ukraine',\n",
       "       'Terras do Sado', 'Maipo Valley-Colchagua Valley', 'Brazil',\n",
       "       'Breedekloof', 'Leyda Valley-Maipo Valley', 'Vermont',\n",
       "       'Switzerland', 'Waitaki Valley', 'Eger', 'Golan Heights',\n",
       "       'Fruška Gora', 'Philadelphia', 'Muzla', 'Mátra', 'Pirque', 'Negev',\n",
       "       'Pitsilia Mountains', 'East Coast', 'Mavrodaphne of Patras',\n",
       "       'Attica', 'Progreso', 'Elazığ-Diyarbakir', 'Jonkershoek Valley',\n",
       "       'Tikves', 'Vale Trentino', 'Turkey', 'Waiheke Island', 'Molina',\n",
       "       'Serra do Sudeste', 'Dalmatian Coast', 'Eilandia',\n",
       "       'Dealurile Munteniei', 'Thraki', 'Curicó and Maipo Valleys',\n",
       "       'Štajerska', 'Middle and South Dalmatia', 'Kentucky', 'Župa',\n",
       "       'Pafos', 'Monemvasia', 'Szekszárd', 'Elazığ', 'Cappadocia',\n",
       "       'Kutjevo', 'Ismarikos', 'Connecticut', 'Sithonia',\n",
       "       'Curicó and Leyda Valleys', 'Agioritikos',\n",
       "       'Casablanca-Curicó Valley', 'Piekenierskloof', 'Elim', 'Malgas',\n",
       "       'Beotia', 'Algarve', 'Retsina', 'Amindeo', 'Coelemu',\n",
       "       'Cape South Coast', 'Sopron', 'Bulgaria', 'North Dalmatia',\n",
       "       'Northern Cape', 'Vinho da Mesa', 'Hvar', 'Cephalonia', 'Lemesos',\n",
       "       'Cahul', 'Cyclades', 'Breede River Valley', 'Ticino',\n",
       "       'Vlootenburg', 'Brda', 'Dingač', 'Morocco', 'Achaia',\n",
       "       'Polkadraai Hills', 'Rhode Island', 'Amyndeon', 'Vânju Mare',\n",
       "       'Hrvatsko Primorje', 'Central Greece', 'Dolenjska',\n",
       "       'Österreichischer Perlwein', 'Requinoa',\n",
       "       'Mavrodaphne de Cephalonie', 'Goumenissa', 'Portugal', 'Messinia',\n",
       "       'Lakonia', 'Markopoulo', 'Vinho Licoroso', 'Paardeberg',\n",
       "       'San Antonio de las Minas Valley', 'Krania Olympus', 'Corinthia',\n",
       "       'Slovenska Istra', 'Commandaria', 'Gladstone', 'Jerusalem Hills',\n",
       "       'Mount Athos', 'Colares', 'Helderberg',\n",
       "       'Casablanca & Leyda Valleys', 'Dealurile Hușilor', 'Urla-Thrace',\n",
       "       'Südburgenland', 'Cape Peninsula', 'Codru Region', 'Sterea Ellada',\n",
       "       'Muscat of Patras', 'Imathia', 'Alenteo', 'Canada Other',\n",
       "       'Letrinon', 'Muscat of Kefallonian', 'Thessalikos', 'Hawaii',\n",
       "       'China', 'Limnos', 'Egypt', 'Viile Timis', 'Devon Valley', 'Krk',\n",
       "       'Arcadia', 'Cape Agulhas', 'Kathikas', 'Vin de Pays de Velvendo',\n",
       "       'Landwein Rhein', 'Lesbos', 'Távora-Varosa', 'Neuchâtel'],\n",
       "      dtype=object)"
      ]
     },
     "execution_count": 26,
     "metadata": {},
     "output_type": "execute_result"
    }
   ],
   "source": [
    "df['province'].unique()"
   ]
  },
  {
   "cell_type": "code",
   "execution_count": 35,
   "metadata": {},
   "outputs": [],
   "source": [
    "df_province = df.groupby('province')['country'].count()"
   ]
  },
  {
   "cell_type": "code",
   "execution_count": 38,
   "metadata": {},
   "outputs": [],
   "source": [
    "df_province.to_csv('provinces.csv')"
   ]
  },
  {
   "cell_type": "code",
   "execution_count": 39,
   "metadata": {},
   "outputs": [
    {
     "data": {
      "text/plain": [
       "province\n",
       "Achaia                         5\n",
       "Aconcagua Costa               27\n",
       "Aconcagua Valley             116\n",
       "Aegean                        22\n",
       "Agioritikos                    3\n",
       "                            ... \n",
       "Zenata                        19\n",
       "Österreichischer Perlwein      4\n",
       "Österreichischer Sekt         66\n",
       "Štajerska                     22\n",
       "Župa                           8\n",
       "Name: country, Length: 425, dtype: int64"
      ]
     },
     "execution_count": 39,
     "metadata": {},
     "output_type": "execute_result"
    }
   ],
   "source": [
    "df_province"
   ]
  }
 ],
 "metadata": {
  "kernelspec": {
   "display_name": "Python 3",
   "language": "python",
   "name": "python3"
  },
  "language_info": {
   "codemirror_mode": {
    "name": "ipython",
    "version": 3
   },
   "file_extension": ".py",
   "mimetype": "text/x-python",
   "name": "python",
   "nbconvert_exporter": "python",
   "pygments_lexer": "ipython3",
   "version": "3.7.4"
  }
 },
 "nbformat": 4,
 "nbformat_minor": 4
}
