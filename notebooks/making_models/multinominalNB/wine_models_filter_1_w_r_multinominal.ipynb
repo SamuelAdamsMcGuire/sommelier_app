{
 "cells": [
  {
   "cell_type": "code",
   "execution_count": 1,
   "metadata": {},
   "outputs": [],
   "source": [
    "import pickle\n",
    "import spacy\n",
    "import sys\n",
    "import pandas as pd\n",
    "import numpy as np\n",
    "from sklearn.naive_bayes import MultinomialNB, GaussianNB, BernoulliNB, CategoricalNB\n",
    "from sklearn.ensemble import RandomForestClassifier, RandomForestRegressor\n",
    "from sklearn.feature_extraction.text import CountVectorizer, TfidfTransformer\n",
    "from sklearn.model_selection import train_test_split, cross_val_score, GridSearchCV\n",
    "from sklearn.pipeline import Pipeline\n",
    "from sklearn.linear_model import LogisticRegression\n",
    "from sklearn import metrics"
   ]
  },
  {
   "cell_type": "code",
   "execution_count": 2,
   "metadata": {},
   "outputs": [],
   "source": [
    "sys.path.append('../../../')"
   ]
  },
  {
   "cell_type": "code",
   "execution_count": 3,
   "metadata": {},
   "outputs": [],
   "source": [
    "from utils.wine_functions import custom_tokenizer"
   ]
  },
  {
   "cell_type": "code",
   "execution_count": 4,
   "metadata": {},
   "outputs": [],
   "source": [
    "nlp = spacy.load(\"en_core_web_sm\", disable=[\"parser\", \"textcat\", \"ner\"])"
   ]
  },
  {
   "cell_type": "code",
   "execution_count": 5,
   "metadata": {},
   "outputs": [],
   "source": [
    "df = pd.read_csv('../../../data/df_w_r.csv', index_col = 0)"
   ]
  },
  {
   "cell_type": "code",
   "execution_count": 6,
   "metadata": {},
   "outputs": [
    {
     "data": {
      "text/plain": [
       "Index(['country', 'description', 'designation', 'points', 'price', 'province',\n",
       "       'region_1', 'region_2', 'taster_name', 'taster_twitter_handle', 'title',\n",
       "       'variety', 'winery', 'type'],\n",
       "      dtype='object')"
      ]
     },
     "execution_count": 6,
     "metadata": {},
     "output_type": "execute_result"
    }
   ],
   "source": [
    "df.columns"
   ]
  },
  {
   "cell_type": "code",
   "execution_count": 7,
   "metadata": {
    "scrolled": true
   },
   "outputs": [
    {
     "data": {
      "text/plain": [
       "(36509, 14)"
      ]
     },
     "execution_count": 7,
     "metadata": {},
     "output_type": "execute_result"
    }
   ],
   "source": [
    "df.shape"
   ]
  },
  {
   "cell_type": "code",
   "execution_count": 8,
   "metadata": {},
   "outputs": [
    {
     "data": {
      "text/html": [
       "<div>\n",
       "<style scoped>\n",
       "    .dataframe tbody tr th:only-of-type {\n",
       "        vertical-align: middle;\n",
       "    }\n",
       "\n",
       "    .dataframe tbody tr th {\n",
       "        vertical-align: top;\n",
       "    }\n",
       "\n",
       "    .dataframe thead th {\n",
       "        text-align: right;\n",
       "    }\n",
       "</style>\n",
       "<table border=\"1\" class=\"dataframe\">\n",
       "  <thead>\n",
       "    <tr style=\"text-align: right;\">\n",
       "      <th></th>\n",
       "      <th>country</th>\n",
       "      <th>description</th>\n",
       "      <th>designation</th>\n",
       "      <th>points</th>\n",
       "      <th>price</th>\n",
       "      <th>province</th>\n",
       "      <th>region_1</th>\n",
       "      <th>region_2</th>\n",
       "      <th>taster_name</th>\n",
       "      <th>taster_twitter_handle</th>\n",
       "      <th>title</th>\n",
       "      <th>variety</th>\n",
       "      <th>winery</th>\n",
       "      <th>type</th>\n",
       "    </tr>\n",
       "  </thead>\n",
       "  <tbody>\n",
       "    <tr>\n",
       "      <th>0</th>\n",
       "      <td>Italy</td>\n",
       "      <td>Aromas include tropical fruit, broom, brimston...</td>\n",
       "      <td>Vulkà Bianco</td>\n",
       "      <td>87</td>\n",
       "      <td>NaN</td>\n",
       "      <td>Sicily &amp; Sardinia</td>\n",
       "      <td>Etna</td>\n",
       "      <td>NaN</td>\n",
       "      <td>Kerin O’Keefe</td>\n",
       "      <td>@kerinokeefe</td>\n",
       "      <td>Nicosia 2013 Vulkà Bianco  (Etna)</td>\n",
       "      <td>White Blend</td>\n",
       "      <td>Nicosia</td>\n",
       "      <td>white</td>\n",
       "    </tr>\n",
       "    <tr>\n",
       "      <th>1</th>\n",
       "      <td>US</td>\n",
       "      <td>Tart and snappy, the flavors of lime flesh and...</td>\n",
       "      <td>Pinot Gris</td>\n",
       "      <td>87</td>\n",
       "      <td>14.0</td>\n",
       "      <td>Oregon</td>\n",
       "      <td>Willamette Valley</td>\n",
       "      <td>Willamette Valley</td>\n",
       "      <td>Paul Gregutt</td>\n",
       "      <td>@paulgwine</td>\n",
       "      <td>Rainstorm 2013 Pinot Gris (Willamette Valley)</td>\n",
       "      <td>Pinot Gris</td>\n",
       "      <td>Rainstorm</td>\n",
       "      <td>white</td>\n",
       "    </tr>\n",
       "    <tr>\n",
       "      <th>2</th>\n",
       "      <td>US</td>\n",
       "      <td>Pineapple rind, lemon pith and orange blossom ...</td>\n",
       "      <td>Reserve Late Harvest</td>\n",
       "      <td>87</td>\n",
       "      <td>13.0</td>\n",
       "      <td>Michigan</td>\n",
       "      <td>Lake Michigan Shore</td>\n",
       "      <td>NaN</td>\n",
       "      <td>Alexander Peartree</td>\n",
       "      <td>NaN</td>\n",
       "      <td>St. Julian 2013 Reserve Late Harvest Riesling ...</td>\n",
       "      <td>Riesling</td>\n",
       "      <td>St. Julian</td>\n",
       "      <td>white</td>\n",
       "    </tr>\n",
       "    <tr>\n",
       "      <th>3</th>\n",
       "      <td>France</td>\n",
       "      <td>This dry and restrained wine offers spice in p...</td>\n",
       "      <td>Gewürztraminer</td>\n",
       "      <td>87</td>\n",
       "      <td>24.0</td>\n",
       "      <td>Alsace</td>\n",
       "      <td>Alsace</td>\n",
       "      <td>NaN</td>\n",
       "      <td>Roger Voss</td>\n",
       "      <td>@vossroger</td>\n",
       "      <td>Trimbach 2012 Gewurztraminer (Alsace)</td>\n",
       "      <td>Gewürztraminer</td>\n",
       "      <td>Trimbach</td>\n",
       "      <td>white</td>\n",
       "    </tr>\n",
       "    <tr>\n",
       "      <th>4</th>\n",
       "      <td>Germany</td>\n",
       "      <td>Savory dried thyme notes accent sunnier flavor...</td>\n",
       "      <td>Shine</td>\n",
       "      <td>87</td>\n",
       "      <td>12.0</td>\n",
       "      <td>Rheinhessen</td>\n",
       "      <td>NaN</td>\n",
       "      <td>NaN</td>\n",
       "      <td>Anna Lee C. Iijima</td>\n",
       "      <td>NaN</td>\n",
       "      <td>Heinz Eifel 2013 Shine Gewürztraminer (Rheinhe...</td>\n",
       "      <td>Gewürztraminer</td>\n",
       "      <td>Heinz Eifel</td>\n",
       "      <td>white</td>\n",
       "    </tr>\n",
       "    <tr>\n",
       "      <th>...</th>\n",
       "      <td>...</td>\n",
       "      <td>...</td>\n",
       "      <td>...</td>\n",
       "      <td>...</td>\n",
       "      <td>...</td>\n",
       "      <td>...</td>\n",
       "      <td>...</td>\n",
       "      <td>...</td>\n",
       "      <td>...</td>\n",
       "      <td>...</td>\n",
       "      <td>...</td>\n",
       "      <td>...</td>\n",
       "      <td>...</td>\n",
       "      <td>...</td>\n",
       "    </tr>\n",
       "    <tr>\n",
       "      <th>36504</th>\n",
       "      <td>France</td>\n",
       "      <td>This is a barely pink rosé, perfect to reflect...</td>\n",
       "      <td>Rosé</td>\n",
       "      <td>87</td>\n",
       "      <td>NaN</td>\n",
       "      <td>Provence</td>\n",
       "      <td>Côtes de Provence</td>\n",
       "      <td>NaN</td>\n",
       "      <td>Roger Voss</td>\n",
       "      <td>@vossroger</td>\n",
       "      <td>Les Maîtres Vignerons de la Presqu'île de Sain...</td>\n",
       "      <td>Rosé</td>\n",
       "      <td>Les Maîtres Vignerons de la Presqu'île de Sain...</td>\n",
       "      <td>rose</td>\n",
       "    </tr>\n",
       "    <tr>\n",
       "      <th>36505</th>\n",
       "      <td>France</td>\n",
       "      <td>Soft and ripe, it is gently fruity with light ...</td>\n",
       "      <td>Rosé</td>\n",
       "      <td>87</td>\n",
       "      <td>NaN</td>\n",
       "      <td>Provence</td>\n",
       "      <td>Côtes de Provence</td>\n",
       "      <td>NaN</td>\n",
       "      <td>Roger Voss</td>\n",
       "      <td>@vossroger</td>\n",
       "      <td>Les Vignobles Gueissard 2013 Cuvée G Rosé (Côt...</td>\n",
       "      <td>Rosé</td>\n",
       "      <td>Les Vignobles Gueissard</td>\n",
       "      <td>rose</td>\n",
       "    </tr>\n",
       "    <tr>\n",
       "      <th>36506</th>\n",
       "      <td>France</td>\n",
       "      <td>Close to the beach of Pampelonne, this is a an...</td>\n",
       "      <td>Rosé</td>\n",
       "      <td>87</td>\n",
       "      <td>18.0</td>\n",
       "      <td>Provence</td>\n",
       "      <td>Côtes de Provence</td>\n",
       "      <td>NaN</td>\n",
       "      <td>Roger Voss</td>\n",
       "      <td>@vossroger</td>\n",
       "      <td>Mas de Pampelonne 2013 Rosé (Côtes de Provence)</td>\n",
       "      <td>Rosé</td>\n",
       "      <td>Mas de Pampelonne</td>\n",
       "      <td>rose</td>\n",
       "    </tr>\n",
       "    <tr>\n",
       "      <th>36507</th>\n",
       "      <td>US</td>\n",
       "      <td>The use of 100% Syrah gives a deep pink color ...</td>\n",
       "      <td>Rosé</td>\n",
       "      <td>87</td>\n",
       "      <td>22.0</td>\n",
       "      <td>California</td>\n",
       "      <td>Santa Ynez Valley</td>\n",
       "      <td>Central Coast</td>\n",
       "      <td>Matt Kettmann</td>\n",
       "      <td>@mattkettmann</td>\n",
       "      <td>Solminer 2013 Linus Rosé (Santa Ynez Valley)</td>\n",
       "      <td>Rosé</td>\n",
       "      <td>Solminer</td>\n",
       "      <td>rose</td>\n",
       "    </tr>\n",
       "    <tr>\n",
       "      <th>36508</th>\n",
       "      <td>US</td>\n",
       "      <td>Picturesque with a crystalline salmon color, i...</td>\n",
       "      <td>Rosé</td>\n",
       "      <td>87</td>\n",
       "      <td>27.0</td>\n",
       "      <td>California</td>\n",
       "      <td>Paso Robles</td>\n",
       "      <td>Central Coast</td>\n",
       "      <td>Matt Kettmann</td>\n",
       "      <td>@mattkettmann</td>\n",
       "      <td>Tablas Creek 2013 Dianthus Estate Mourvèdre-Gr...</td>\n",
       "      <td>Rosé</td>\n",
       "      <td>Tablas Creek</td>\n",
       "      <td>rose</td>\n",
       "    </tr>\n",
       "  </tbody>\n",
       "</table>\n",
       "<p>36509 rows × 14 columns</p>\n",
       "</div>"
      ],
      "text/plain": [
       "       country                                        description  \\\n",
       "0        Italy  Aromas include tropical fruit, broom, brimston...   \n",
       "1           US  Tart and snappy, the flavors of lime flesh and...   \n",
       "2           US  Pineapple rind, lemon pith and orange blossom ...   \n",
       "3       France  This dry and restrained wine offers spice in p...   \n",
       "4      Germany  Savory dried thyme notes accent sunnier flavor...   \n",
       "...        ...                                                ...   \n",
       "36504   France  This is a barely pink rosé, perfect to reflect...   \n",
       "36505   France  Soft and ripe, it is gently fruity with light ...   \n",
       "36506   France  Close to the beach of Pampelonne, this is a an...   \n",
       "36507       US  The use of 100% Syrah gives a deep pink color ...   \n",
       "36508       US  Picturesque with a crystalline salmon color, i...   \n",
       "\n",
       "                designation  points  price           province  \\\n",
       "0              Vulkà Bianco      87    NaN  Sicily & Sardinia   \n",
       "1                Pinot Gris      87   14.0             Oregon   \n",
       "2      Reserve Late Harvest      87   13.0           Michigan   \n",
       "3            Gewürztraminer      87   24.0             Alsace   \n",
       "4                     Shine      87   12.0        Rheinhessen   \n",
       "...                     ...     ...    ...                ...   \n",
       "36504                  Rosé      87    NaN           Provence   \n",
       "36505                  Rosé      87    NaN           Provence   \n",
       "36506                  Rosé      87   18.0           Provence   \n",
       "36507                  Rosé      87   22.0         California   \n",
       "36508                  Rosé      87   27.0         California   \n",
       "\n",
       "                  region_1           region_2         taster_name  \\\n",
       "0                     Etna                NaN       Kerin O’Keefe   \n",
       "1        Willamette Valley  Willamette Valley        Paul Gregutt   \n",
       "2      Lake Michigan Shore                NaN  Alexander Peartree   \n",
       "3                   Alsace                NaN          Roger Voss   \n",
       "4                      NaN                NaN  Anna Lee C. Iijima   \n",
       "...                    ...                ...                 ...   \n",
       "36504    Côtes de Provence                NaN          Roger Voss   \n",
       "36505    Côtes de Provence                NaN          Roger Voss   \n",
       "36506    Côtes de Provence                NaN          Roger Voss   \n",
       "36507    Santa Ynez Valley      Central Coast       Matt Kettmann   \n",
       "36508          Paso Robles      Central Coast       Matt Kettmann   \n",
       "\n",
       "      taster_twitter_handle  \\\n",
       "0              @kerinokeefe   \n",
       "1               @paulgwine    \n",
       "2                       NaN   \n",
       "3                @vossroger   \n",
       "4                       NaN   \n",
       "...                     ...   \n",
       "36504            @vossroger   \n",
       "36505            @vossroger   \n",
       "36506            @vossroger   \n",
       "36507         @mattkettmann   \n",
       "36508         @mattkettmann   \n",
       "\n",
       "                                                   title         variety  \\\n",
       "0                      Nicosia 2013 Vulkà Bianco  (Etna)     White Blend   \n",
       "1          Rainstorm 2013 Pinot Gris (Willamette Valley)      Pinot Gris   \n",
       "2      St. Julian 2013 Reserve Late Harvest Riesling ...        Riesling   \n",
       "3                  Trimbach 2012 Gewurztraminer (Alsace)  Gewürztraminer   \n",
       "4      Heinz Eifel 2013 Shine Gewürztraminer (Rheinhe...  Gewürztraminer   \n",
       "...                                                  ...             ...   \n",
       "36504  Les Maîtres Vignerons de la Presqu'île de Sain...            Rosé   \n",
       "36505  Les Vignobles Gueissard 2013 Cuvée G Rosé (Côt...            Rosé   \n",
       "36506    Mas de Pampelonne 2013 Rosé (Côtes de Provence)            Rosé   \n",
       "36507       Solminer 2013 Linus Rosé (Santa Ynez Valley)            Rosé   \n",
       "36508  Tablas Creek 2013 Dianthus Estate Mourvèdre-Gr...            Rosé   \n",
       "\n",
       "                                                  winery   type  \n",
       "0                                                Nicosia  white  \n",
       "1                                              Rainstorm  white  \n",
       "2                                             St. Julian  white  \n",
       "3                                               Trimbach  white  \n",
       "4                                            Heinz Eifel  white  \n",
       "...                                                  ...    ...  \n",
       "36504  Les Maîtres Vignerons de la Presqu'île de Sain...   rose  \n",
       "36505                            Les Vignobles Gueissard   rose  \n",
       "36506                                  Mas de Pampelonne   rose  \n",
       "36507                                           Solminer   rose  \n",
       "36508                                       Tablas Creek   rose  \n",
       "\n",
       "[36509 rows x 14 columns]"
      ]
     },
     "execution_count": 8,
     "metadata": {},
     "output_type": "execute_result"
    }
   ],
   "source": [
    "df"
   ]
  },
  {
   "cell_type": "code",
   "execution_count": 9,
   "metadata": {},
   "outputs": [],
   "source": [
    "#def custom_tokenizer(text):\n",
    "#    '''\n",
    "#    used to filter out unwanted words, punctuation, and so on\n",
    "#    '''\n",
    "#    tokens = []\n",
    "#    for t in nlp(text):\n",
    "#        if not(len(t) < 2 or t.is_stop or t.like_num or \n",
    "#               t.is_punct or not t.is_alpha):\n",
    "#            tokens.append(t.lemma_)\n",
    "#    return tokens "
   ]
  },
  {
   "cell_type": "code",
   "execution_count": 10,
   "metadata": {},
   "outputs": [],
   "source": [
    "corpus = df['description']"
   ]
  },
  {
   "cell_type": "code",
   "execution_count": 11,
   "metadata": {},
   "outputs": [
    {
     "data": {
      "text/plain": [
       "0        Aromas include tropical fruit, broom, brimston...\n",
       "1        Tart and snappy, the flavors of lime flesh and...\n",
       "2        Pineapple rind, lemon pith and orange blossom ...\n",
       "3        This dry and restrained wine offers spice in p...\n",
       "4        Savory dried thyme notes accent sunnier flavor...\n",
       "                               ...                        \n",
       "36504    This is a barely pink rosé, perfect to reflect...\n",
       "36505    Soft and ripe, it is gently fruity with light ...\n",
       "36506    Close to the beach of Pampelonne, this is a an...\n",
       "36507    The use of 100% Syrah gives a deep pink color ...\n",
       "36508    Picturesque with a crystalline salmon color, i...\n",
       "Name: description, Length: 36509, dtype: object"
      ]
     },
     "execution_count": 11,
     "metadata": {},
     "output_type": "execute_result"
    }
   ],
   "source": [
    "corpus"
   ]
  },
  {
   "cell_type": "code",
   "execution_count": 12,
   "metadata": {},
   "outputs": [],
   "source": [
    "y = df['variety']"
   ]
  },
  {
   "cell_type": "code",
   "execution_count": 13,
   "metadata": {},
   "outputs": [
    {
     "data": {
      "text/plain": [
       "Chardonnay                    11753\n",
       "Riesling                       5189\n",
       "Sauvignon Blanc                4967\n",
       "Rosé                           3564\n",
       "White Blend                    2360\n",
       "Pinot Gris                     1455\n",
       "Grüner Veltliner               1345\n",
       "Portuguese White               1159\n",
       "Bordeaux-style White Blend     1066\n",
       "Pinot Grigio                   1052\n",
       "Gewürztraminer                 1012\n",
       "Viognier                        996\n",
       "Chenin Blanc                    591\n",
       "Name: variety, dtype: int64"
      ]
     },
     "execution_count": 13,
     "metadata": {},
     "output_type": "execute_result"
    }
   ],
   "source": [
    "y.value_counts()"
   ]
  },
  {
   "cell_type": "code",
   "execution_count": 14,
   "metadata": {},
   "outputs": [],
   "source": [
    "bow = CountVectorizer(tokenizer=custom_tokenizer, \n",
    "                      ngram_range=(1, 2), \n",
    "                      min_df=0.01, \n",
    "                      max_df=0.99)"
   ]
  },
  {
   "cell_type": "code",
   "execution_count": 15,
   "metadata": {},
   "outputs": [],
   "source": [
    "corpus_train, corpus_test, y_train, y_test = train_test_split(corpus, y, \n",
    "                                                              test_size=0.4, \n",
    "                                                              train_size=0.6)"
   ]
  },
  {
   "cell_type": "code",
   "execution_count": 16,
   "metadata": {},
   "outputs": [],
   "source": [
    "X_train = bow.fit_transform(corpus_train)"
   ]
  },
  {
   "cell_type": "code",
   "execution_count": 17,
   "metadata": {},
   "outputs": [
    {
     "data": {
      "text/plain": [
       "(21905, 437)"
      ]
     },
     "execution_count": 17,
     "metadata": {},
     "output_type": "execute_result"
    }
   ],
   "source": [
    "X_train.shape"
   ]
  },
  {
   "cell_type": "code",
   "execution_count": 18,
   "metadata": {},
   "outputs": [],
   "source": [
    "X_test = bow.transform(corpus_test)"
   ]
  },
  {
   "cell_type": "code",
   "execution_count": 19,
   "metadata": {},
   "outputs": [],
   "source": [
    "m_nb = Pipeline([\n",
    "    ('TfIdf', TfidfTransformer()),\n",
    "    ('NB', MultinomialNB())\n",
    "])"
   ]
  },
  {
   "cell_type": "code",
   "execution_count": 20,
   "metadata": {},
   "outputs": [
    {
     "data": {
      "text/plain": [
       "0.6283038669711563"
      ]
     },
     "execution_count": 20,
     "metadata": {},
     "output_type": "execute_result"
    }
   ],
   "source": [
    "cross_val_score(m_nb, X_train, y_train, scoring='accuracy', n_jobs=4, cv=4).mean()"
   ]
  },
  {
   "cell_type": "code",
   "execution_count": 21,
   "metadata": {},
   "outputs": [
    {
     "data": {
      "text/plain": [
       "Pipeline(memory=None,\n",
       "         steps=[('TfIdf',\n",
       "                 TfidfTransformer(norm='l2', smooth_idf=True,\n",
       "                                  sublinear_tf=False, use_idf=True)),\n",
       "                ('NB',\n",
       "                 MultinomialNB(alpha=1.0, class_prior=None, fit_prior=True))],\n",
       "         verbose=False)"
      ]
     },
     "execution_count": 21,
     "metadata": {},
     "output_type": "execute_result"
    }
   ],
   "source": [
    "m_nb.fit(X_train, y_train)"
   ]
  },
  {
   "cell_type": "code",
   "execution_count": 22,
   "metadata": {},
   "outputs": [],
   "source": [
    "pred = m_nb.predict(X_test)"
   ]
  },
  {
   "cell_type": "code",
   "execution_count": 23,
   "metadata": {},
   "outputs": [
    {
     "data": {
      "text/plain": [
       "0.6319501506436592"
      ]
     },
     "execution_count": 23,
     "metadata": {},
     "output_type": "execute_result"
    }
   ],
   "source": [
    "metrics.accuracy_score(y_test, pred)"
   ]
  },
  {
   "cell_type": "code",
   "execution_count": 24,
   "metadata": {},
   "outputs": [
    {
     "data": {
      "text/plain": [
       "0.5949230699075323"
      ]
     },
     "execution_count": 24,
     "metadata": {},
     "output_type": "execute_result"
    }
   ],
   "source": [
    "metrics.f1_score(y_test, pred, average='weighted')"
   ]
  },
  {
   "cell_type": "code",
   "execution_count": 25,
   "metadata": {},
   "outputs": [
    {
     "data": {
      "text/plain": [
       "array(['Chardonnay'], dtype='<U26')"
      ]
     },
     "execution_count": 25,
     "metadata": {},
     "output_type": "execute_result"
    }
   ],
   "source": [
    "m_nb.predict(bow.transform(['cherry flavor nice oak accent']))"
   ]
  },
  {
   "cell_type": "code",
   "execution_count": 26,
   "metadata": {},
   "outputs": [
    {
     "data": {
      "text/plain": [
       "0.2645432746060415"
      ]
     },
     "execution_count": 26,
     "metadata": {},
     "output_type": "execute_result"
    }
   ],
   "source": [
    "m_nb.predict_proba(bow.transform(['cherry flavor nice oak accent'])).max()"
   ]
  },
  {
   "cell_type": "code",
   "execution_count": 27,
   "metadata": {},
   "outputs": [],
   "source": [
    "with open('m_w_r.p', 'wb') as f:\n",
    "    pickle.dump(m_nb, f)"
   ]
  },
  {
   "cell_type": "code",
   "execution_count": 28,
   "metadata": {},
   "outputs": [],
   "source": [
    "with open('bow_w_r.p', 'wb') as f:\n",
    "    pickle.dump(bow, f)"
   ]
  },
  {
   "cell_type": "code",
   "execution_count": null,
   "metadata": {},
   "outputs": [],
   "source": []
  }
 ],
 "metadata": {
  "kernelspec": {
   "display_name": "Python 3",
   "language": "python",
   "name": "python3"
  },
  "language_info": {
   "codemirror_mode": {
    "name": "ipython",
    "version": 3
   },
   "file_extension": ".py",
   "mimetype": "text/x-python",
   "name": "python",
   "nbconvert_exporter": "python",
   "pygments_lexer": "ipython3",
   "version": "3.7.4"
  }
 },
 "nbformat": 4,
 "nbformat_minor": 4
}
