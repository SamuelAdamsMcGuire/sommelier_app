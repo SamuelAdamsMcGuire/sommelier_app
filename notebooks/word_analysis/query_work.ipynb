{
 "cells": [
  {
   "cell_type": "code",
   "execution_count": 1,
   "metadata": {},
   "outputs": [],
   "source": [
    "import numpy as np"
   ]
  },
  {
   "cell_type": "code",
   "execution_count": 3,
   "metadata": {},
   "outputs": [],
   "source": [
    "import operator\n",
    "from functools import reduce"
   ]
  },
  {
   "cell_type": "code",
   "execution_count": 4,
   "metadata": {},
   "outputs": [],
   "source": [
    "sweet = ['sweet', 'sweetness', 'sugar']\n",
    "dry = ['dry', 'savory', 'bitter']\n",
    "style_1 = ['light', 'refreshing', 'bright', 'racy']\n",
    "style_2 = ['smooth', 'balanced', 'polished', 'silky']\n",
    "style_3 = ['full', 'rich', 'dense', 'tannin', 'tannic', 'chewy', 'heavy']\n",
    "fruity = ['fruity', 'fruitiness', 'jam', 'jammy']\n",
    "earthy = ['earthy', 'earth', 'soil', 'minerality', 'graphite']\n",
    "oak = ['carmel', 'toast', 'toasty', 'spice', 'oak', 'oaky', 'smokey',\n",
    "        'smoke', 'cedar', 'tea']"
   ]
  },
  {
   "cell_type": "code",
   "execution_count": 5,
   "metadata": {},
   "outputs": [],
   "source": [
    "query = []"
   ]
  },
  {
   "cell_type": "code",
   "execution_count": 6,
   "metadata": {},
   "outputs": [],
   "source": [
    "query.append(sweet)"
   ]
  },
  {
   "cell_type": "code",
   "execution_count": 7,
   "metadata": {},
   "outputs": [
    {
     "data": {
      "text/plain": [
       "[['sweet', 'sweetness', 'sugar']]"
      ]
     },
     "execution_count": 7,
     "metadata": {},
     "output_type": "execute_result"
    }
   ],
   "source": [
    "query"
   ]
  },
  {
   "cell_type": "code",
   "execution_count": 8,
   "metadata": {},
   "outputs": [],
   "source": [
    "query.append(oak)"
   ]
  },
  {
   "cell_type": "code",
   "execution_count": 9,
   "metadata": {},
   "outputs": [
    {
     "data": {
      "text/plain": [
       "[['sweet', 'sweetness', 'sugar'],\n",
       " ['carmel',\n",
       "  'toast',\n",
       "  'toasty',\n",
       "  'spice',\n",
       "  'oak',\n",
       "  'oaky',\n",
       "  'smokey',\n",
       "  'smoke',\n",
       "  'cedar',\n",
       "  'tea']]"
      ]
     },
     "execution_count": 9,
     "metadata": {},
     "output_type": "execute_result"
    }
   ],
   "source": [
    "query"
   ]
  },
  {
   "cell_type": "code",
   "execution_count": 10,
   "metadata": {},
   "outputs": [
    {
     "data": {
      "text/plain": [
       "array([list(['sweet', 'sweetness', 'sugar']),\n",
       "       list(['carmel', 'toast', 'toasty', 'spice', 'oak', 'oaky', 'smokey', 'smoke', 'cedar', 'tea'])],\n",
       "      dtype=object)"
      ]
     },
     "execution_count": 10,
     "metadata": {},
     "output_type": "execute_result"
    }
   ],
   "source": [
    "np.array(query).flatten()"
   ]
  },
  {
   "cell_type": "code",
   "execution_count": 11,
   "metadata": {},
   "outputs": [],
   "source": [
    "query = reduce(operator.concat, query)"
   ]
  },
  {
   "cell_type": "code",
   "execution_count": 12,
   "metadata": {},
   "outputs": [],
   "source": [
    "query = [' '.join(query)]"
   ]
  },
  {
   "cell_type": "code",
   "execution_count": 13,
   "metadata": {},
   "outputs": [
    {
     "data": {
      "text/plain": [
       "['sweet sweetness sugar carmel toast toasty spice oak oaky smokey smoke cedar tea']"
      ]
     },
     "execution_count": 13,
     "metadata": {},
     "output_type": "execute_result"
    }
   ],
   "source": [
    "query"
   ]
  },
  {
   "cell_type": "code",
   "execution_count": null,
   "metadata": {},
   "outputs": [],
   "source": []
  },
  {
   "cell_type": "code",
   "execution_count": 14,
   "metadata": {},
   "outputs": [],
   "source": [
    "query_options = {'sweet': ['sweet', 'sweetness', 'sugar'],\n",
    "                'dry': ['dry', 'savory', 'bitter'],\n",
    "                 'style_1': ['light', 'refreshing', 'bright', 'racy'],\n",
    "                 'style_2': ['smooth', 'balanced', 'polished', 'silky'],\n",
    "                 'style_3': ['full', 'rich', 'dense', 'tannin', 'tannic', 'chewy', 'heavy'],\n",
    "                 'fruity': ['fruity', 'fruitiness', 'jam', 'jammy'],\n",
    "                 'earthy': ['earthy', 'earth', 'soil', 'minerality', 'graphite'],\n",
    "                }"
   ]
  },
  {
   "cell_type": "code",
   "execution_count": 15,
   "metadata": {},
   "outputs": [
    {
     "data": {
      "text/plain": [
       "['sweet', 'sweetness', 'sugar']"
      ]
     },
     "execution_count": 15,
     "metadata": {},
     "output_type": "execute_result"
    }
   ],
   "source": [
    "query_options['sweet']"
   ]
  },
  {
   "cell_type": "code",
   "execution_count": 16,
   "metadata": {},
   "outputs": [],
   "source": [
    "query = []"
   ]
  },
  {
   "cell_type": "code",
   "execution_count": 17,
   "metadata": {},
   "outputs": [],
   "source": [
    "query.append(query_options['style_3'])"
   ]
  },
  {
   "cell_type": "code",
   "execution_count": 18,
   "metadata": {},
   "outputs": [
    {
     "data": {
      "text/plain": [
       "[['full', 'rich', 'dense', 'tannin', 'tannic', 'chewy', 'heavy']]"
      ]
     },
     "execution_count": 18,
     "metadata": {},
     "output_type": "execute_result"
    }
   ],
   "source": [
    "query"
   ]
  },
  {
   "cell_type": "code",
   "execution_count": 19,
   "metadata": {},
   "outputs": [],
   "source": [
    "query.append(query_options['earthy'])"
   ]
  },
  {
   "cell_type": "code",
   "execution_count": 20,
   "metadata": {},
   "outputs": [],
   "source": [
    "query.append(query_options['dry'])"
   ]
  },
  {
   "cell_type": "code",
   "execution_count": 21,
   "metadata": {},
   "outputs": [
    {
     "data": {
      "text/plain": [
       "[['full', 'rich', 'dense', 'tannin', 'tannic', 'chewy', 'heavy'],\n",
       " ['earthy', 'earth', 'soil', 'minerality', 'graphite'],\n",
       " ['dry', 'savory', 'bitter']]"
      ]
     },
     "execution_count": 21,
     "metadata": {},
     "output_type": "execute_result"
    }
   ],
   "source": [
    "query "
   ]
  },
  {
   "cell_type": "code",
   "execution_count": 22,
   "metadata": {},
   "outputs": [],
   "source": [
    "query = reduce(operator.concat, query)"
   ]
  },
  {
   "cell_type": "code",
   "execution_count": 23,
   "metadata": {},
   "outputs": [],
   "source": [
    "query = [' '.join(query)]"
   ]
  },
  {
   "cell_type": "code",
   "execution_count": 24,
   "metadata": {},
   "outputs": [
    {
     "data": {
      "text/plain": [
       "['full rich dense tannin tannic chewy heavy earthy earth soil minerality graphite dry savory bitter']"
      ]
     },
     "execution_count": 24,
     "metadata": {},
     "output_type": "execute_result"
    }
   ],
   "source": [
    "query"
   ]
  },
  {
   "cell_type": "code",
   "execution_count": null,
   "metadata": {},
   "outputs": [],
   "source": []
  },
  {
   "cell_type": "code",
   "execution_count": 25,
   "metadata": {},
   "outputs": [],
   "source": [
    "vec_types = {'bern_bow': ['models/bern/bow.p', 'models/bern/bow_red.p', \n",
    "            'models/bern/bow_w_r.p', 'models/bern/bow_white.p'],\n",
    "             'multi_bow': ['models/multi/bow.p', 'models/multi/bow_red.p', \n",
    "            'models/multi/bow_w_r.p', 'models/multi/bow_white.p'],\n",
    "            'log_bow': ['models/logreg/bow.p', 'models/logreg/bow_red.p', \n",
    "            'models/logreg/bow_w_r.p', 'models/logreg/bow_white.p'],\n",
    "            'gb_bow': ['models/gb/bow.p', 'models/gb/bow_red.p', \n",
    "            'models/gb/bow_w_r.p', 'models/gb/bow_white.p'],\n",
    "            }"
   ]
  },
  {
   "cell_type": "code",
   "execution_count": 26,
   "metadata": {},
   "outputs": [],
   "source": [
    "vec = vec_types['bern_bow']"
   ]
  },
  {
   "cell_type": "code",
   "execution_count": 27,
   "metadata": {},
   "outputs": [
    {
     "data": {
      "text/plain": [
       "['models/bern/bow.p',\n",
       " 'models/bern/bow_red.p',\n",
       " 'models/bern/bow_w_r.p',\n",
       " 'models/bern/bow_white.p']"
      ]
     },
     "execution_count": 27,
     "metadata": {},
     "output_type": "execute_result"
    }
   ],
   "source": [
    "vec"
   ]
  },
  {
   "cell_type": "code",
   "execution_count": 28,
   "metadata": {},
   "outputs": [
    {
     "data": {
      "text/plain": [
       "'models/bern/bow.p'"
      ]
     },
     "execution_count": 28,
     "metadata": {},
     "output_type": "execute_result"
    }
   ],
   "source": [
    "vec[0]"
   ]
  }
 ],
 "metadata": {
  "kernelspec": {
   "display_name": "Python 3",
   "language": "python",
   "name": "python3"
  },
  "language_info": {
   "codemirror_mode": {
    "name": "ipython",
    "version": 3
   },
   "file_extension": ".py",
   "mimetype": "text/x-python",
   "name": "python",
   "nbconvert_exporter": "python",
   "pygments_lexer": "ipython3",
   "version": "3.7.4"
  }
 },
 "nbformat": 4,
 "nbformat_minor": 4
}
